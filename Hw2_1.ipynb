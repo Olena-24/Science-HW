{
  "nbformat": 4,
  "nbformat_minor": 0,
  "metadata": {
    "colab": {
      "provenance": [],
      "authorship_tag": "ABX9TyMLT1UUcDnNjAsRtBGjd3it",
      "include_colab_link": true
    },
    "kernelspec": {
      "name": "python3",
      "display_name": "Python 3"
    },
    "language_info": {
      "name": "python"
    }
  },
  "cells": [
    {
      "cell_type": "markdown",
      "metadata": {
        "id": "view-in-github",
        "colab_type": "text"
      },
      "source": [
        "<a href=\"https://colab.research.google.com/github/Olena-24/Science-HW/blob/main/Hw2_1.ipynb\" target=\"_parent\"><img src=\"https://colab.research.google.com/assets/colab-badge.svg\" alt=\"Open In Colab\"/></a>"
      ]
    },
    {
      "cell_type": "code",
      "execution_count": 41,
      "metadata": {
        "id": "ItZx6qV5oBG0"
      },
      "outputs": [],
      "source": [
        "import pandas as pd\n",
        "import numpy as np\n",
        "import matplotlib.pyplot as plt"
      ]
    },
    {
      "cell_type": "code",
      "source": [
        "source = 'https://uk.wikipedia.org/wiki/%D0%9D%D0%B0%D1%81%D0%B5%D0%BB%D0%B5%D0%BD%D0%BD%D1%8F_%D0%A3%D0%BA%D1%80%D0%B0%D1%97%D0%BD%D0%B8#%D0%9D%D0%B0%D1%80%D0%BE%D0%B4%D0%B6%D1%83%D0%B2%D0%B0%D0%BD%D1%96%D1%81%D1%82%D1%8C'\n",
        "df = pd.read_html(source, match='Коефіцієнт народжуваності в регіонах України', thousands=\".\", decimal=\",\")[0]\n",
        "print(df)"
      ],
      "metadata": {
        "colab": {
          "base_uri": "https://localhost:8080/"
        },
        "id": "kW4dN00_5TnQ",
        "outputId": "01eb3a84-3954-4fff-c43c-8018670a8def"
      },
      "execution_count": 15,
      "outputs": [
        {
          "output_type": "stream",
          "name": "stdout",
          "text": [
            "               Регіон  1950  1960  1970  1990  2000  2012  2014  2019\n",
            "0                Крим  23.0  20.6  16.0  13.0   7.3  12.6     —     —\n",
            "1           Вінницька  22.4  19.2  14.2  12.4   8.4  11.2  10.9   7.6\n",
            "2           Волинська  24.7  25.0  17.9  15.3  11.2  14.8  14.1  10.1\n",
            "3    Дніпропетровська  20.4  20.4  15.1  12.3   7.1  11.2  11.1   7.1\n",
            "4            Донецька  27.1  21.4  14.0  10.9   6.1   9.8   8.2     —\n",
            "5         Житомирська  26.1  22.3  15.9  12.9   8.9  12.2  12.0   7.9\n",
            "6        Закарпатська  31.4  27.3  20.7  16.8  11.5  15.1  14.6  10.4\n",
            "7          Запорізька  21.9  19.7  15.0  12.4   7.1  10.6  10.6   6.8\n",
            "8   Івано-Франківська  24.3  24.8  18.2  15.5  10.3  12.4  12.2   8.8\n",
            "9            Київська  20.4  18.9  15.6  12.3   7.3  12.2  12.1   8.0\n",
            "10     Кіровоградська  21.6  17.1  14.5  12.6   7.9  11.0  10.8   6.8\n",
            "11          Луганська  26.2  23.5  14.4  11.6   6.2   9.6   5.1     —\n",
            "12          Львівська  23.4  24.0  17.1  14.0   9.1  11.9  11.9   8.7\n",
            "13       Миколаївська  21.1  19.4  15.5  13.7   8.0  11.5  11.2   7.1\n",
            "14            Одеська  24.1  19.2  14.8  12.6   8.0  12.7  12.3   8.8\n",
            "15         Полтавська  18.6  16.3  13.1  11.8   7.0   9.9  10.0   6.5\n",
            "16         Рівненська  26.9  26.7  19.3  15.8  11.8  15.9  14.8  10.7\n",
            "17            Сумська  21.6  18.4  13.2  11.5   7.0   9.7   9.2   6.0\n",
            "18      Тернопільська  21.3  21.6  15.7  14.2   9.2  11.3  10.9   7.6\n",
            "19         Харківська  19.7  17.3  14.0  11.4   6.8   9.9  10.1   6.8\n",
            "20         Херсонська  20.8  21.4  16.6  14.3   8.5  11.7  11.5   8.1\n",
            "21        Хмельницька  23.4  19.8  14.8  12.9   8.5  11.3  11.2   7.9\n",
            "22          Черкаська  20.5  17.9  14.4  12.3   7.5  10.0   9.8   6.4\n",
            "23        Чернівецька  24.7  21.8  17.0  14.8  10.1  12.8  12.9   9.2\n",
            "24       Чернігівська  22.0  18.3  12.7  10.8   6.9   9.4   9.0   6.1\n",
            "25               Київ   NaN  17.4  15.9  12.0   7.3  12.0  12.1  11.0\n",
            "26        Севастополь   NaN   NaN   NaN  12.5   7.0  12.0     —     —\n",
            "27            Україна  22.8  20.5  15.2  12.6   7.8  11.4  11.1   8.1\n"
          ]
        }
      ]
    },
    {
      "cell_type": "markdown",
      "source": [
        "*1. Вивести перші рядки таблиці за допомогою методу head*"
      ],
      "metadata": {
        "id": "N12aZVx8Pxwi"
      }
    },
    {
      "cell_type": "markdown",
      "source": [],
      "metadata": {
        "id": "PMNHmDrrW30K"
      }
    },
    {
      "cell_type": "code",
      "source": [
        "print(df.head())"
      ],
      "metadata": {
        "colab": {
          "base_uri": "https://localhost:8080/"
        },
        "id": "0EH6uGZpPzUF",
        "outputId": "34e79d8c-c910-4159-f246-40897eea5741"
      },
      "execution_count": null,
      "outputs": [
        {
          "output_type": "stream",
          "name": "stdout",
          "text": [
            "             Регіон  1950  1960  1970  1990  2000  2012  2014  2019\n",
            "0              Крим  23.0  20.6  16.0  13.0   7.3  12.6     —     —\n",
            "1         Вінницька  22.4  19.2  14.2  12.4   8.4  11.2  10.9   7.6\n",
            "2         Волинська  24.7  25.0  17.9  15.3  11.2  14.8  14.1  10.1\n",
            "3  Дніпропетровська  20.4  20.4  15.1  12.3   7.1  11.2  11.1   7.1\n",
            "4          Донецька  27.1  21.4  14.0  10.9   6.1   9.8   8.2     —\n"
          ]
        }
      ]
    },
    {
      "cell_type": "markdown",
      "source": [
        "*2. Визначте кількість рядків та стовпців у датафреймі (атрибут shape)*"
      ],
      "metadata": {
        "id": "npetoe-IUzTQ"
      }
    },
    {
      "cell_type": "code",
      "source": [
        "print(df.shape)"
      ],
      "metadata": {
        "colab": {
          "base_uri": "https://localhost:8080/"
        },
        "id": "hM_VfMm-U4sz",
        "outputId": "aa38c814-ffe6-4327-b856-62a0c00b33ac"
      },
      "execution_count": null,
      "outputs": [
        {
          "output_type": "stream",
          "name": "stdout",
          "text": [
            "(28, 9)\n"
          ]
        }
      ]
    },
    {
      "cell_type": "markdown",
      "source": [
        "*3. Замініть у таблиці значення \"—\" на значення NaN*"
      ],
      "metadata": {
        "id": "czkeXthgVlG6"
      }
    },
    {
      "cell_type": "code",
      "source": [
        "df_new = df.replace(\"—\", np.nan, inplace=False)\n",
        "print(df_new)"
      ],
      "metadata": {
        "colab": {
          "base_uri": "https://localhost:8080/"
        },
        "id": "vF4fFRcfV5lZ",
        "outputId": "0f7f14a9-638c-4915-cea6-7d6c6fd6fcc0"
      },
      "execution_count": 21,
      "outputs": [
        {
          "output_type": "stream",
          "name": "stdout",
          "text": [
            "               Регіон  1950  1960  1970  1990  2000  2012  2014  2019\n",
            "0                Крим  23.0  20.6  16.0  13.0   7.3  12.6   NaN   NaN\n",
            "1           Вінницька  22.4  19.2  14.2  12.4   8.4  11.2  10.9   7.6\n",
            "2           Волинська  24.7  25.0  17.9  15.3  11.2  14.8  14.1  10.1\n",
            "3    Дніпропетровська  20.4  20.4  15.1  12.3   7.1  11.2  11.1   7.1\n",
            "4            Донецька  27.1  21.4  14.0  10.9   6.1   9.8   8.2   NaN\n",
            "5         Житомирська  26.1  22.3  15.9  12.9   8.9  12.2  12.0   7.9\n",
            "6        Закарпатська  31.4  27.3  20.7  16.8  11.5  15.1  14.6  10.4\n",
            "7          Запорізька  21.9  19.7  15.0  12.4   7.1  10.6  10.6   6.8\n",
            "8   Івано-Франківська  24.3  24.8  18.2  15.5  10.3  12.4  12.2   8.8\n",
            "9            Київська  20.4  18.9  15.6  12.3   7.3  12.2  12.1   8.0\n",
            "10     Кіровоградська  21.6  17.1  14.5  12.6   7.9  11.0  10.8   6.8\n",
            "11          Луганська  26.2  23.5  14.4  11.6   6.2   9.6   5.1   NaN\n",
            "12          Львівська  23.4  24.0  17.1  14.0   9.1  11.9  11.9   8.7\n",
            "13       Миколаївська  21.1  19.4  15.5  13.7   8.0  11.5  11.2   7.1\n",
            "14            Одеська  24.1  19.2  14.8  12.6   8.0  12.7  12.3   8.8\n",
            "15         Полтавська  18.6  16.3  13.1  11.8   7.0   9.9  10.0   6.5\n",
            "16         Рівненська  26.9  26.7  19.3  15.8  11.8  15.9  14.8  10.7\n",
            "17            Сумська  21.6  18.4  13.2  11.5   7.0   9.7   9.2   6.0\n",
            "18      Тернопільська  21.3  21.6  15.7  14.2   9.2  11.3  10.9   7.6\n",
            "19         Харківська  19.7  17.3  14.0  11.4   6.8   9.9  10.1   6.8\n",
            "20         Херсонська  20.8  21.4  16.6  14.3   8.5  11.7  11.5   8.1\n",
            "21        Хмельницька  23.4  19.8  14.8  12.9   8.5  11.3  11.2   7.9\n",
            "22          Черкаська  20.5  17.9  14.4  12.3   7.5  10.0   9.8   6.4\n",
            "23        Чернівецька  24.7  21.8  17.0  14.8  10.1  12.8  12.9   9.2\n",
            "24       Чернігівська  22.0  18.3  12.7  10.8   6.9   9.4   9.0   6.1\n",
            "25               Київ   NaN  17.4  15.9  12.0   7.3  12.0  12.1  11.0\n",
            "26        Севастополь   NaN   NaN   NaN  12.5   7.0  12.0   NaN   NaN\n",
            "27            Україна  22.8  20.5  15.2  12.6   7.8  11.4  11.1   8.1\n"
          ]
        }
      ]
    },
    {
      "cell_type": "markdown",
      "source": [
        "*4. Визначте типи всіх стовпців за допомогою dataframe.dtypes*"
      ],
      "metadata": {
        "id": "lr_DkmgyWRM5"
      }
    },
    {
      "cell_type": "code",
      "source": [
        "print(df.dtypes)"
      ],
      "metadata": {
        "colab": {
          "base_uri": "https://localhost:8080/"
        },
        "id": "tXBWncy5WTt8",
        "outputId": "7166281e-ad62-42ee-e191-18a508052677"
      },
      "execution_count": null,
      "outputs": [
        {
          "output_type": "stream",
          "name": "stdout",
          "text": [
            "Регіон     object\n",
            "1950      float64\n",
            "1960      float64\n",
            "1970      float64\n",
            "1990      float64\n",
            "2000      float64\n",
            "2012      float64\n",
            "2014       object\n",
            "2019       object\n",
            "dtype: object\n"
          ]
        }
      ]
    },
    {
      "cell_type": "markdown",
      "source": [
        "*5. Замініть типи нечислових колонок на числові. Підказка - це колонки, де знаходився символ \"—\"*"
      ],
      "metadata": {
        "id": "l_hky3KOWUWp"
      }
    },
    {
      "cell_type": "code",
      "source": [
        "nan_columns = df.columns[df.isnull().any()].tolist()\n",
        "df[nan_columns] = df[nan_columns].astype(float)\n",
        "df.dtypes"
      ],
      "metadata": {
        "id": "KMSs-X5bWaRY",
        "colab": {
          "base_uri": "https://localhost:8080/"
        },
        "outputId": "0c24e6e6-1ab6-4601-f405-7ff678dc0717"
      },
      "execution_count": 17,
      "outputs": [
        {
          "output_type": "execute_result",
          "data": {
            "text/plain": [
              "Регіон     object\n",
              "1950      float64\n",
              "1960      float64\n",
              "1970      float64\n",
              "1990      float64\n",
              "2000      float64\n",
              "2012      float64\n",
              "2014       object\n",
              "2019       object\n",
              "dtype: object"
            ]
          },
          "metadata": {},
          "execution_count": 17
        }
      ]
    },
    {
      "cell_type": "markdown",
      "source": [
        "*6.Порахуйте, яка частка пропусків міститься в кожній колонці (використовуйте методи isnull та sum)*"
      ],
      "metadata": {
        "id": "TRQ7_T4sdHx5"
      }
    },
    {
      "cell_type": "code",
      "source": [
        "df.isnull().sum() / len(df)"
      ],
      "metadata": {
        "id": "XjrNqd7edOgj",
        "colab": {
          "base_uri": "https://localhost:8080/"
        },
        "outputId": "09b5252d-9555-45d9-ff8a-3b6ffbf5bc4f"
      },
      "execution_count": 18,
      "outputs": [
        {
          "output_type": "execute_result",
          "data": {
            "text/plain": [
              "Регіон    0.000000\n",
              "1950      0.071429\n",
              "1960      0.035714\n",
              "1970      0.035714\n",
              "1990      0.000000\n",
              "2000      0.000000\n",
              "2012      0.000000\n",
              "2014      0.000000\n",
              "2019      0.000000\n",
              "dtype: float64"
            ]
          },
          "metadata": {},
          "execution_count": 18
        }
      ]
    },
    {
      "cell_type": "markdown",
      "source": [
        "*7. Видаліть з таблиці дані по всій країні, останній рядок таблиці.*"
      ],
      "metadata": {
        "id": "O87EzDgVdPDL"
      }
    },
    {
      "cell_type": "code",
      "source": [
        "# Загрузка таблицы с Wikipedia\n",
        "source = 'https://uk.wikipedia.org/wiki/%D0%9D%D0%B0%D1%81%D0%B5%D0%BB%D0%B5%D0%BD%D0%BD%D1%8F_%D0%A3%D0%BA%D1%80%D0%B0%D1%97%D0%BD%D0%B8#%D0%9D%D0%B0%D1%80%D0%BE%D0%B4%D0%B6%D1%83%D0%B2%D0%B0%D0%BD%D1%96%D1%81%D1%82%D1%8C'\n",
        "df = pd.read_html(source, match='Коефіцієнт народжуваності в регіонах України', thousands=\".\", decimal=\",\")[0]\n",
        "\n",
        "# Печать исходной таблицы для проверки\n",
        "print(\"Исходная таблица:\")\n",
        "print(df)\n",
        "\n",
        "# Удаление строки с данными по всей стране\n",
        "df_sorted = df[df[\"Регіон\"] != \"Україна\"]\n",
        "\n",
        "# Удаление последней строки таблицы\n",
        "\n",
        "df_sorted = df_sorted[:-1]\n",
        "\n",
        "print(\"\\nОбновленная таблица:\")\n",
        "print(df_sorted)"
      ],
      "metadata": {
        "id": "5YJjrTpUdVFY",
        "colab": {
          "base_uri": "https://localhost:8080/"
        },
        "outputId": "030ee021-8c9c-4c62-9e23-18d244170803"
      },
      "execution_count": 30,
      "outputs": [
        {
          "output_type": "stream",
          "name": "stdout",
          "text": [
            "Исходная таблица:\n",
            "               Регіон  1950  1960  1970  1990  2000  2012  2014  2019\n",
            "0                Крим  23.0  20.6  16.0  13.0   7.3  12.6     —     —\n",
            "1           Вінницька  22.4  19.2  14.2  12.4   8.4  11.2  10.9   7.6\n",
            "2           Волинська  24.7  25.0  17.9  15.3  11.2  14.8  14.1  10.1\n",
            "3    Дніпропетровська  20.4  20.4  15.1  12.3   7.1  11.2  11.1   7.1\n",
            "4            Донецька  27.1  21.4  14.0  10.9   6.1   9.8   8.2     —\n",
            "5         Житомирська  26.1  22.3  15.9  12.9   8.9  12.2  12.0   7.9\n",
            "6        Закарпатська  31.4  27.3  20.7  16.8  11.5  15.1  14.6  10.4\n",
            "7          Запорізька  21.9  19.7  15.0  12.4   7.1  10.6  10.6   6.8\n",
            "8   Івано-Франківська  24.3  24.8  18.2  15.5  10.3  12.4  12.2   8.8\n",
            "9            Київська  20.4  18.9  15.6  12.3   7.3  12.2  12.1   8.0\n",
            "10     Кіровоградська  21.6  17.1  14.5  12.6   7.9  11.0  10.8   6.8\n",
            "11          Луганська  26.2  23.5  14.4  11.6   6.2   9.6   5.1     —\n",
            "12          Львівська  23.4  24.0  17.1  14.0   9.1  11.9  11.9   8.7\n",
            "13       Миколаївська  21.1  19.4  15.5  13.7   8.0  11.5  11.2   7.1\n",
            "14            Одеська  24.1  19.2  14.8  12.6   8.0  12.7  12.3   8.8\n",
            "15         Полтавська  18.6  16.3  13.1  11.8   7.0   9.9  10.0   6.5\n",
            "16         Рівненська  26.9  26.7  19.3  15.8  11.8  15.9  14.8  10.7\n",
            "17            Сумська  21.6  18.4  13.2  11.5   7.0   9.7   9.2   6.0\n",
            "18      Тернопільська  21.3  21.6  15.7  14.2   9.2  11.3  10.9   7.6\n",
            "19         Харківська  19.7  17.3  14.0  11.4   6.8   9.9  10.1   6.8\n",
            "20         Херсонська  20.8  21.4  16.6  14.3   8.5  11.7  11.5   8.1\n",
            "21        Хмельницька  23.4  19.8  14.8  12.9   8.5  11.3  11.2   7.9\n",
            "22          Черкаська  20.5  17.9  14.4  12.3   7.5  10.0   9.8   6.4\n",
            "23        Чернівецька  24.7  21.8  17.0  14.8  10.1  12.8  12.9   9.2\n",
            "24       Чернігівська  22.0  18.3  12.7  10.8   6.9   9.4   9.0   6.1\n",
            "25               Київ   NaN  17.4  15.9  12.0   7.3  12.0  12.1  11.0\n",
            "26        Севастополь   NaN   NaN   NaN  12.5   7.0  12.0     —     —\n",
            "27            Україна  22.8  20.5  15.2  12.6   7.8  11.4  11.1   8.1\n",
            "\n",
            "Обновленная таблица:\n",
            "               Регіон  1950  1960  1970  1990  2000  2012  2014  2019\n",
            "0                Крим  23.0  20.6  16.0  13.0   7.3  12.6     —     —\n",
            "1           Вінницька  22.4  19.2  14.2  12.4   8.4  11.2  10.9   7.6\n",
            "2           Волинська  24.7  25.0  17.9  15.3  11.2  14.8  14.1  10.1\n",
            "3    Дніпропетровська  20.4  20.4  15.1  12.3   7.1  11.2  11.1   7.1\n",
            "4            Донецька  27.1  21.4  14.0  10.9   6.1   9.8   8.2     —\n",
            "5         Житомирська  26.1  22.3  15.9  12.9   8.9  12.2  12.0   7.9\n",
            "6        Закарпатська  31.4  27.3  20.7  16.8  11.5  15.1  14.6  10.4\n",
            "7          Запорізька  21.9  19.7  15.0  12.4   7.1  10.6  10.6   6.8\n",
            "8   Івано-Франківська  24.3  24.8  18.2  15.5  10.3  12.4  12.2   8.8\n",
            "9            Київська  20.4  18.9  15.6  12.3   7.3  12.2  12.1   8.0\n",
            "10     Кіровоградська  21.6  17.1  14.5  12.6   7.9  11.0  10.8   6.8\n",
            "11          Луганська  26.2  23.5  14.4  11.6   6.2   9.6   5.1     —\n",
            "12          Львівська  23.4  24.0  17.1  14.0   9.1  11.9  11.9   8.7\n",
            "13       Миколаївська  21.1  19.4  15.5  13.7   8.0  11.5  11.2   7.1\n",
            "14            Одеська  24.1  19.2  14.8  12.6   8.0  12.7  12.3   8.8\n",
            "15         Полтавська  18.6  16.3  13.1  11.8   7.0   9.9  10.0   6.5\n",
            "16         Рівненська  26.9  26.7  19.3  15.8  11.8  15.9  14.8  10.7\n",
            "17            Сумська  21.6  18.4  13.2  11.5   7.0   9.7   9.2   6.0\n",
            "18      Тернопільська  21.3  21.6  15.7  14.2   9.2  11.3  10.9   7.6\n",
            "19         Харківська  19.7  17.3  14.0  11.4   6.8   9.9  10.1   6.8\n",
            "20         Херсонська  20.8  21.4  16.6  14.3   8.5  11.7  11.5   8.1\n",
            "21        Хмельницька  23.4  19.8  14.8  12.9   8.5  11.3  11.2   7.9\n",
            "22          Черкаська  20.5  17.9  14.4  12.3   7.5  10.0   9.8   6.4\n",
            "23        Чернівецька  24.7  21.8  17.0  14.8  10.1  12.8  12.9   9.2\n",
            "24       Чернігівська  22.0  18.3  12.7  10.8   6.9   9.4   9.0   6.1\n",
            "25               Київ   NaN  17.4  15.9  12.0   7.3  12.0  12.1  11.0\n"
          ]
        }
      ]
    },
    {
      "cell_type": "markdown",
      "source": [
        "*8.Замініть відсутні дані в стовпцях середніми значеннями цих стовпців (метод fillna)*"
      ],
      "metadata": {
        "id": "IocmjzlkdYXe"
      }
    },
    {
      "cell_type": "code",
      "source": [
        "source = 'https://uk.wikipedia.org/wiki/%D0%9D%D0%B0%D1%81%D0%B5%D0%BB%D0%B5%D0%BD%D0%BD%D1%8F_%D0%A3%D0%BA%D1%80%D0%B0%D1%97%D0%BD%D0%B8#%D0%9D%D0%B0%D1%80%D0%BE%D0%B4%D0%B6%D1%83%D0%B2%D0%B0%D0%BD%D1%96%D1%81%D1%82%D1%8C'\n",
        "df = pd.read_html(source, match='Коефіцієнт народжуваності в регіонах України', thousands=\".\", decimal=\",\")[0]\n",
        "\n",
        "df.replace('—', np.nan, inplace=True)\n",
        "\n",
        "# Преобразование всех числовых столбцов в тип float, кроме первого столбца 'Регіон'\n",
        "numeric_columns = df.columns[1:]\n",
        "numeric_columns = numeric_columns.astype(float)\n",
        "average_column_rate = (df[numeric_columns].mean())\n",
        "print(average_column_rate)\n",
        "\n",
        "\n"
      ],
      "metadata": {
        "id": "PKcPv__Jdart",
        "colab": {
          "base_uri": "https://localhost:8080/",
          "height": 356
        },
        "outputId": "bb70ef67-0457-413c-edd2-d8786fb5b7a7"
      },
      "execution_count": 51,
      "outputs": [
        {
          "output_type": "error",
          "ename": "KeyError",
          "evalue": "\"None of [Index([1950.0, 1960.0, 1970.0, 1990.0, 2000.0, 2012.0, 2014.0, 2019.0], dtype='float64')] are in the [columns]\"",
          "traceback": [
            "\u001b[0;31m---------------------------------------------------------------------------\u001b[0m",
            "\u001b[0;31mKeyError\u001b[0m                                  Traceback (most recent call last)",
            "\u001b[0;32m<ipython-input-51-43578b5d0cd3>\u001b[0m in \u001b[0;36m<cell line: 9>\u001b[0;34m()\u001b[0m\n\u001b[1;32m      7\u001b[0m \u001b[0mnumeric_columns\u001b[0m \u001b[0;34m=\u001b[0m \u001b[0mdf\u001b[0m\u001b[0;34m.\u001b[0m\u001b[0mcolumns\u001b[0m\u001b[0;34m[\u001b[0m\u001b[0;36m1\u001b[0m\u001b[0;34m:\u001b[0m\u001b[0;34m]\u001b[0m\u001b[0;34m\u001b[0m\u001b[0;34m\u001b[0m\u001b[0m\n\u001b[1;32m      8\u001b[0m \u001b[0mnumeric_columns\u001b[0m \u001b[0;34m=\u001b[0m \u001b[0mnumeric_columns\u001b[0m\u001b[0;34m.\u001b[0m\u001b[0mastype\u001b[0m\u001b[0;34m(\u001b[0m\u001b[0mfloat\u001b[0m\u001b[0;34m)\u001b[0m\u001b[0;34m\u001b[0m\u001b[0;34m\u001b[0m\u001b[0m\n\u001b[0;32m----> 9\u001b[0;31m \u001b[0maverage_column_rate\u001b[0m \u001b[0;34m=\u001b[0m \u001b[0;34m(\u001b[0m\u001b[0mdf\u001b[0m\u001b[0;34m[\u001b[0m\u001b[0mnumeric_columns\u001b[0m\u001b[0;34m]\u001b[0m\u001b[0;34m.\u001b[0m\u001b[0mmean\u001b[0m\u001b[0;34m(\u001b[0m\u001b[0;34m)\u001b[0m\u001b[0;34m)\u001b[0m\u001b[0;34m\u001b[0m\u001b[0;34m\u001b[0m\u001b[0m\n\u001b[0m\u001b[1;32m     10\u001b[0m \u001b[0mprint\u001b[0m\u001b[0;34m(\u001b[0m\u001b[0maverage_column_rate\u001b[0m\u001b[0;34m)\u001b[0m\u001b[0;34m\u001b[0m\u001b[0;34m\u001b[0m\u001b[0m\n\u001b[1;32m     11\u001b[0m \u001b[0;34m\u001b[0m\u001b[0m\n",
            "\u001b[0;32m/usr/local/lib/python3.10/dist-packages/pandas/core/frame.py\u001b[0m in \u001b[0;36m__getitem__\u001b[0;34m(self, key)\u001b[0m\n\u001b[1;32m   3765\u001b[0m             \u001b[0;32mif\u001b[0m \u001b[0mis_iterator\u001b[0m\u001b[0;34m(\u001b[0m\u001b[0mkey\u001b[0m\u001b[0;34m)\u001b[0m\u001b[0;34m:\u001b[0m\u001b[0;34m\u001b[0m\u001b[0;34m\u001b[0m\u001b[0m\n\u001b[1;32m   3766\u001b[0m                 \u001b[0mkey\u001b[0m \u001b[0;34m=\u001b[0m \u001b[0mlist\u001b[0m\u001b[0;34m(\u001b[0m\u001b[0mkey\u001b[0m\u001b[0;34m)\u001b[0m\u001b[0;34m\u001b[0m\u001b[0;34m\u001b[0m\u001b[0m\n\u001b[0;32m-> 3767\u001b[0;31m             \u001b[0mindexer\u001b[0m \u001b[0;34m=\u001b[0m \u001b[0mself\u001b[0m\u001b[0;34m.\u001b[0m\u001b[0mcolumns\u001b[0m\u001b[0;34m.\u001b[0m\u001b[0m_get_indexer_strict\u001b[0m\u001b[0;34m(\u001b[0m\u001b[0mkey\u001b[0m\u001b[0;34m,\u001b[0m \u001b[0;34m\"columns\"\u001b[0m\u001b[0;34m)\u001b[0m\u001b[0;34m[\u001b[0m\u001b[0;36m1\u001b[0m\u001b[0;34m]\u001b[0m\u001b[0;34m\u001b[0m\u001b[0;34m\u001b[0m\u001b[0m\n\u001b[0m\u001b[1;32m   3768\u001b[0m \u001b[0;34m\u001b[0m\u001b[0m\n\u001b[1;32m   3769\u001b[0m         \u001b[0;31m# take() does not accept boolean indexers\u001b[0m\u001b[0;34m\u001b[0m\u001b[0;34m\u001b[0m\u001b[0m\n",
            "\u001b[0;32m/usr/local/lib/python3.10/dist-packages/pandas/core/indexes/base.py\u001b[0m in \u001b[0;36m_get_indexer_strict\u001b[0;34m(self, key, axis_name)\u001b[0m\n\u001b[1;32m   5875\u001b[0m             \u001b[0mkeyarr\u001b[0m\u001b[0;34m,\u001b[0m \u001b[0mindexer\u001b[0m\u001b[0;34m,\u001b[0m \u001b[0mnew_indexer\u001b[0m \u001b[0;34m=\u001b[0m \u001b[0mself\u001b[0m\u001b[0;34m.\u001b[0m\u001b[0m_reindex_non_unique\u001b[0m\u001b[0;34m(\u001b[0m\u001b[0mkeyarr\u001b[0m\u001b[0;34m)\u001b[0m\u001b[0;34m\u001b[0m\u001b[0;34m\u001b[0m\u001b[0m\n\u001b[1;32m   5876\u001b[0m \u001b[0;34m\u001b[0m\u001b[0m\n\u001b[0;32m-> 5877\u001b[0;31m         \u001b[0mself\u001b[0m\u001b[0;34m.\u001b[0m\u001b[0m_raise_if_missing\u001b[0m\u001b[0;34m(\u001b[0m\u001b[0mkeyarr\u001b[0m\u001b[0;34m,\u001b[0m \u001b[0mindexer\u001b[0m\u001b[0;34m,\u001b[0m \u001b[0maxis_name\u001b[0m\u001b[0;34m)\u001b[0m\u001b[0;34m\u001b[0m\u001b[0;34m\u001b[0m\u001b[0m\n\u001b[0m\u001b[1;32m   5878\u001b[0m \u001b[0;34m\u001b[0m\u001b[0m\n\u001b[1;32m   5879\u001b[0m         \u001b[0mkeyarr\u001b[0m \u001b[0;34m=\u001b[0m \u001b[0mself\u001b[0m\u001b[0;34m.\u001b[0m\u001b[0mtake\u001b[0m\u001b[0;34m(\u001b[0m\u001b[0mindexer\u001b[0m\u001b[0;34m)\u001b[0m\u001b[0;34m\u001b[0m\u001b[0;34m\u001b[0m\u001b[0m\n",
            "\u001b[0;32m/usr/local/lib/python3.10/dist-packages/pandas/core/indexes/base.py\u001b[0m in \u001b[0;36m_raise_if_missing\u001b[0;34m(self, key, indexer, axis_name)\u001b[0m\n\u001b[1;32m   5936\u001b[0m                 \u001b[0;32mif\u001b[0m \u001b[0muse_interval_msg\u001b[0m\u001b[0;34m:\u001b[0m\u001b[0;34m\u001b[0m\u001b[0;34m\u001b[0m\u001b[0m\n\u001b[1;32m   5937\u001b[0m                     \u001b[0mkey\u001b[0m \u001b[0;34m=\u001b[0m \u001b[0mlist\u001b[0m\u001b[0;34m(\u001b[0m\u001b[0mkey\u001b[0m\u001b[0;34m)\u001b[0m\u001b[0;34m\u001b[0m\u001b[0;34m\u001b[0m\u001b[0m\n\u001b[0;32m-> 5938\u001b[0;31m                 \u001b[0;32mraise\u001b[0m \u001b[0mKeyError\u001b[0m\u001b[0;34m(\u001b[0m\u001b[0;34mf\"None of [{key}] are in the [{axis_name}]\"\u001b[0m\u001b[0;34m)\u001b[0m\u001b[0;34m\u001b[0m\u001b[0;34m\u001b[0m\u001b[0m\n\u001b[0m\u001b[1;32m   5939\u001b[0m \u001b[0;34m\u001b[0m\u001b[0m\n\u001b[1;32m   5940\u001b[0m             \u001b[0mnot_found\u001b[0m \u001b[0;34m=\u001b[0m \u001b[0mlist\u001b[0m\u001b[0;34m(\u001b[0m\u001b[0mensure_index\u001b[0m\u001b[0;34m(\u001b[0m\u001b[0mkey\u001b[0m\u001b[0;34m)\u001b[0m\u001b[0;34m[\u001b[0m\u001b[0mmissing_mask\u001b[0m\u001b[0;34m.\u001b[0m\u001b[0mnonzero\u001b[0m\u001b[0;34m(\u001b[0m\u001b[0;34m)\u001b[0m\u001b[0;34m[\u001b[0m\u001b[0;36m0\u001b[0m\u001b[0;34m]\u001b[0m\u001b[0;34m]\u001b[0m\u001b[0;34m.\u001b[0m\u001b[0munique\u001b[0m\u001b[0;34m(\u001b[0m\u001b[0;34m)\u001b[0m\u001b[0;34m)\u001b[0m\u001b[0;34m\u001b[0m\u001b[0;34m\u001b[0m\u001b[0m\n",
            "\u001b[0;31mKeyError\u001b[0m: \"None of [Index([1950.0, 1960.0, 1970.0, 1990.0, 2000.0, 2012.0, 2014.0, 2019.0], dtype='float64')] are in the [columns]\""
          ]
        }
      ]
    },
    {
      "cell_type": "markdown",
      "source": [
        "*9. Отримайте список регіонів, де рівень народжуваності у 2019 році був вищим за середній по Україні*"
      ],
      "metadata": {
        "id": "wg5NltgJdbWV"
      }
    },
    {
      "cell_type": "code",
      "source": [
        "# Замена символа '—' на NaN\n",
        "df['2019'] = df['2019'].replace('—', np.nan)\n",
        "\n",
        "# Преобразование данных в числовой формат\n",
        "df['2019'] = df['2019'].astype(float)\n",
        "\n",
        "# Вычисление среднего коэффициента рождаемости в 2019 году\n",
        "average_birth_rate = df['2019'].mean()\n",
        "print(average_birth_rate)\n",
        "\n",
        "# Получение списка регионов с уровнем рождаемости выше среднего в 2019 году\n",
        "regions_above_average = df[df['2019'] > average_birth_rate]['Регіон'].tolist()\n",
        "\n",
        "# Вывод списка регионов\n",
        "print(\"Регионы с уровнем рождаемости выше среднего по Украине в 2019 году:\")\n",
        "print(regions_above_average)"
      ],
      "metadata": {
        "id": "lK9biiHhdd-P",
        "colab": {
          "base_uri": "https://localhost:8080/"
        },
        "outputId": "35b50753-de28-4ac9-8550-73cb600cbb2d"
      },
      "execution_count": 38,
      "outputs": [
        {
          "output_type": "stream",
          "name": "stdout",
          "text": [
            "8.020833333333334\n",
            "Регионы с уровнем рождаемости выше среднего по Украине в 2019 году:\n",
            "['Волинська', 'Закарпатська', 'Івано-Франківська', 'Львівська', 'Одеська', 'Рівненська', 'Херсонська', 'Чернівецька', 'Київ', 'Україна']\n"
          ]
        }
      ]
    },
    {
      "cell_type": "markdown",
      "source": [
        "*10. У якому регіоні була найвища народжуваність у 2014 році?*"
      ],
      "metadata": {
        "id": "uRCJwYPEdefW"
      }
    },
    {
      "cell_type": "code",
      "source": [
        "source = 'https://uk.wikipedia.org/wiki/%D0%9D%D0%B0%D1%81%D0%B5%D0%BB%D0%B5%D0%BD%D0%BD%D1%8F_%D0%A3%D0%BA%D1%80%D0%B0%D1%97%D0%BD%D0%B8#%D0%9D%D0%B0%D1%80%D0%BE%D0%B4%D0%B6%D1%83%D0%B2%D0%B0%D0%BD%D1%96%D1%81%D1%82%D1%8C'\n",
        "df = pd.read_html(source, match='Коефіцієнт народжуваності в регіонах України', thousands=\".\", decimal=\",\")[0]\n",
        "\n",
        "df['2014'] = df['2014'].replace(\"—\", np.nan)\n",
        "df['2014'] = df['2014'].astype(float)\n",
        "max_birth_rate_region = df.nlargest(1, '2014')['Регіон'].values[0]\n",
        "max_birth_rate_value = df['2014'].max()\n",
        "\n",
        "\n",
        "df.nlargest(1, '2014')\n",
        "\n",
        "print(f\"Регіон з найвищою народжуваністю у 2014 році: {max_birth_rate_region} ({max_birth_rate_value})\")"
      ],
      "metadata": {
        "id": "C9LLWmFPdhlA",
        "colab": {
          "base_uri": "https://localhost:8080/"
        },
        "outputId": "7609a41e-23ae-4bfc-d388-414189625fd6"
      },
      "execution_count": 40,
      "outputs": [
        {
          "output_type": "stream",
          "name": "stdout",
          "text": [
            "Регіон з найвищою народжуваністю у 2014 році: Рівненська (14.8)\n"
          ]
        }
      ]
    },
    {
      "cell_type": "markdown",
      "source": [
        "*11. Побудуйте стовпчикову діаграму народжуваності по регіонах у 2019 році*"
      ],
      "metadata": {
        "id": "_FNBOoShdjge"
      }
    },
    {
      "cell_type": "code",
      "source": [
        "df['2019'] = df['2019'].replace('—', np.nan)\n",
        "т\n",
        "df['2019'] = df['2019'].astype(float)\n",
        "\n",
        "plt.figure(figsize=(12, 8))\n",
        "plt.bar(df['Регіон'], df['2019'], color='skyblue')\n",
        "plt.xlabel('Регіон')\n",
        "plt.ylabel('Коефіцієнт народжуваності')\n",
        "plt.title('Народжуваність по регіонах України у 2019 році')\n",
        "plt.xticks(rotation=90)\n",
        "plt.tight_layout()\n",
        "plt.show()\n",
        "\n",
        "\n"
      ],
      "metadata": {
        "id": "jRgpKN5pdlk7",
        "colab": {
          "base_uri": "https://localhost:8080/",
          "height": 807
        },
        "outputId": "2aa43982-fa3e-4783-dc9d-3bbe20a70c21"
      },
      "execution_count": 42,
      "outputs": [
        {
          "output_type": "display_data",
          "data": {
            "text/plain": [
              "<Figure size 1200x800 with 1 Axes>"
            ],
            "image/png": "[encoded data removed]"
          },
          "metadata": {}
        }
      ]
    }
  ]
}