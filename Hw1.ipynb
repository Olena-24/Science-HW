{
  "nbformat": 4,
  "nbformat_minor": 0,
  "metadata": {
    "colab": {
      "provenance": [],
      "authorship_tag": "ABX9TyOWTutBj5efhmNxCWi3xdcn",
      "include_colab_link": true
    },
    "kernelspec": {
      "name": "python3",
      "display_name": "Python 3"
    },
    "language_info": {
      "name": "python"
    }
  },
  "cells": [
    {
      "cell_type": "markdown",
      "metadata": {
        "id": "view-in-github",
        "colab_type": "text"
      },
      "source": [
        "<a href=\"https://colab.research.google.com/github/Olena-24/Science-HW-1/blob/main/Hw1.ipynb\" target=\"_parent\"><img src=\"https://colab.research.google.com/assets/colab-badge.svg\" alt=\"Open In Colab\"/></a>"
      ]
    },
    {
      "cell_type": "code",
      "execution_count": 11,
      "metadata": {
        "id": "8zDUACri3w20"
      },
      "outputs": [],
      "source": [
        "import numpy as np\n"
      ]
    },
    {
      "cell_type": "markdown",
      "source": [
        "*1.Створіть одновимірний масив (вектор) з першими 10-ма натуральними числами та виведіть його значення.*\n"
      ],
      "metadata": {
        "id": "Zvhot5nd35va"
      }
    },
    {
      "cell_type": "code",
      "source": [
        "a = np.arange(1, 11)\n",
        "print(\"Массив с помощью np.arange:\", a)\n",
        "\n",
        "#или другой способ\n",
        "\n",
        "b = np.linspace(1, 10, num=10, dtype=int)\n",
        "print(\"Массив с помощью np.linspace:\", b)"
      ],
      "metadata": {
        "colab": {
          "base_uri": "https://localhost:8080/"
        },
        "id": "pcKQNRQb3_Tg",
        "outputId": "a160daa1-3925-401c-8d41-38919094d741"
      },
      "execution_count": null,
      "outputs": [
        {
          "output_type": "stream",
          "name": "stdout",
          "text": [
            "Массив с помощью np.arange: [ 1  2  3  4  5  6  7  8  9 10]\n",
            "Массив с помощью np.linspace: [ 1  2  3  4  5  6  7  8  9 10]\n"
          ]
        }
      ]
    },
    {
      "cell_type": "markdown",
      "source": [
        "*2.Створіть двовимірний масив (матрицю) розміром 3x3, заповніть його нулями та виведіть його значення.*"
      ],
      "metadata": {
        "id": "t5mkZcPc5zdv"
      }
    },
    {
      "cell_type": "code",
      "source": [
        "zero_matrix = np.zeros((3, 3))\n",
        "print(\"Матрица заполненная нулями:\")\n",
        "print(zero_matrix)"
      ],
      "metadata": {
        "colab": {
          "base_uri": "https://localhost:8080/"
        },
        "id": "oFOpNb9f553Q",
        "outputId": "8ffd8f16-a1b7-4291-a617-70a1d2ef8973"
      },
      "execution_count": null,
      "outputs": [
        {
          "output_type": "stream",
          "name": "stdout",
          "text": [
            "Матрица заполненная нулями:\n",
            "[[0. 0. 0.]\n",
            " [0. 0. 0.]\n",
            " [0. 0. 0.]]\n"
          ]
        }
      ]
    },
    {
      "cell_type": "markdown",
      "source": [
        "*3.Створіть масив розміром 5x5, заповніть його випадковими цілими числами в діапазоні від 1 до 10 та виведіть його значення.*"
      ],
      "metadata": {
        "id": "72h2ignI7E8z"
      }
    },
    {
      "cell_type": "code",
      "source": [
        "random_matrix = np.random.randint(1, 11, (5, 5))\n",
        "print(\"Сгенерированная матрица:\")\n",
        "print(random_matrix)"
      ],
      "metadata": {
        "colab": {
          "base_uri": "https://localhost:8080/"
        },
        "id": "W1aN75BB7KQi",
        "outputId": "3fdafe44-df15-4609-e371-05c3bea79af2"
      },
      "execution_count": null,
      "outputs": [
        {
          "output_type": "stream",
          "name": "stdout",
          "text": [
            "Сгенерированная матрица:\n",
            "[[ 8  2  3  2  3]\n",
            " [ 1  4  1  1  8]\n",
            " [ 5  4 10  5  3]\n",
            " [ 9  7  7  1  5]\n",
            " [ 3  6 10  7  3]]\n"
          ]
        }
      ]
    },
    {
      "cell_type": "markdown",
      "source": [
        "*4. Створіть масив розміром 4x4, заповніть його випадковими дійсними числами в діапазоні від 0 до 1 та виведіть його значення.*"
      ],
      "metadata": {
        "id": "ZrU-epj1B5om"
      }
    },
    {
      "cell_type": "code",
      "source": [
        "\n",
        "random_matrix = np.random.random((4, 4))\n",
        "print(\"Сгенерированная матрица:\")\n",
        "print(random_matrix)"
      ],
      "metadata": {
        "colab": {
          "base_uri": "https://localhost:8080/"
        },
        "id": "ngrXsWdqB-by",
        "outputId": "dcb630f4-cd81-4599-b97a-6c1e58ca457b"
      },
      "execution_count": null,
      "outputs": [
        {
          "output_type": "stream",
          "name": "stdout",
          "text": [
            "Сгенерированная матрица:\n",
            "[[0.97140344 0.12542556 0.5827622  0.77478518]\n",
            " [0.050959   0.98861449 0.58900053 0.02900193]\n",
            " [0.52806561 0.77411722 0.17831647 0.19861356]\n",
            " [0.06893199 0.64007925 0.71815777 0.37576772]]\n"
          ]
        }
      ]
    },
    {
      "cell_type": "markdown",
      "source": [
        "*5. Cтворіть два одновимірних масиви розміром 5, заповніть їх випадковими цілими числами в діапазоні від 1 до 10 та виконайте на них поелементні операції додавання, віднімання та множення.*"
      ],
      "metadata": {
        "id": "m5gYi2OfDgbj"
      }
    },
    {
      "cell_type": "code",
      "source": [
        "array1 = np.random.randint(1, 11, size = 5)\n",
        "array2 = np.random.randint(1, 11, size = 5)\n",
        "product_result = array1 * array2\n",
        "sum_result = array1 + array2\n",
        "difference_result = array1 - array2\n",
        "\n",
        "print(\"Массив array1:\", array1)\n",
        "print(\"Массив array2:\", array2)\n",
        "print(\"Результат умножения:\", product_result)\n",
        "print(\"Результат сложения:\", sum_result)\n",
        "print(\"Результат вычитания:\", difference_result)"
      ],
      "metadata": {
        "colab": {
          "base_uri": "https://localhost:8080/"
        },
        "id": "H4OAkEYkDjt2",
        "outputId": "a4d31dca-7468-459f-c07d-798eab83313a"
      },
      "execution_count": null,
      "outputs": [
        {
          "output_type": "stream",
          "name": "stdout",
          "text": [
            "Массив array1: [ 2 10  9  1  6]\n",
            "Массив array2: [ 7  4  8 10  8]\n",
            "Результат умножения: [14 40 72 10 48]\n",
            "Результат сложения: [ 9 14 17 11 14]\n",
            "Результат вычитания: [-5  6  1 -9 -2]\n"
          ]
        }
      ]
    },
    {
      "cell_type": "markdown",
      "source": [
        "*6. Створіть два вектори розміром 7, заповніть довільними числами та знайдіть їх скалярний добуток.*"
      ],
      "metadata": {
        "id": "ZqKnqEDnmHt3"
      }
    },
    {
      "cell_type": "code",
      "source": [
        "vector1 = np.random.randint(1, 100, size=7)\n",
        "vector2 = np.random.randint(1, 100, size=7)\n",
        "print(\"Вектор 1:\", vector1)\n",
        "print(\"Вектор 2:\", vector2)\n",
        "print(\"Скалярное произведение:\", np.dot(vector1, vector2))"
      ],
      "metadata": {
        "colab": {
          "base_uri": "https://localhost:8080/"
        },
        "id": "UMx4pNC_mM_C",
        "outputId": "aef66b24-65ca-4e18-9da0-7205610ecbe2"
      },
      "execution_count": null,
      "outputs": [
        {
          "output_type": "stream",
          "name": "stdout",
          "text": [
            "Вектор 1: [39 44 22 77 90 21 20]\n",
            "Вектор 2: [90 11 66 27 98 84 59]\n",
            "Скалярный добуток: 19289\n"
          ]
        }
      ]
    },
    {
      "cell_type": "markdown",
      "source": [
        "*7. Створіть дві матриці розміром 2x2 та 2x3, заповніть їх випадковими цілими числами в діапазоні від 1 до 10 та перемножте їх між собою.*"
      ],
      "metadata": {
        "id": "oXvU6snY0GMu"
      }
    },
    {
      "cell_type": "code",
      "source": [
        "rng = np.random.default_rng()\n",
        "matrix1 = rng.integers(1, 11 , size = (2, 2))\n",
        "matrix2 = rng.integers(1, 11, size = (2, 3))\n",
        "print(matrix1)\n",
        "print(matrix2)\n",
        "matrix3 = np.dot(matrix1, matrix2)\n",
        "print(matrix3)"
      ],
      "metadata": {
        "colab": {
          "base_uri": "https://localhost:8080/"
        },
        "id": "kTXaV6G90Ld8",
        "outputId": "6d078770-ebd9-420a-8172-b360ef697eb5"
      },
      "execution_count": null,
      "outputs": [
        {
          "output_type": "stream",
          "name": "stdout",
          "text": [
            "[[3 6]\n",
            " [3 9]]\n",
            "[[9 1 3]\n",
            " [3 4 8]]\n",
            "[[45 27 57]\n",
            " [54 39 81]]\n"
          ]
        }
      ]
    },
    {
      "cell_type": "markdown",
      "source": [
        "*8. Створіть матрицю розміром 3x3, заповніть її випадковими цілими числами в діапазоні від 1 до 10 та знайдіть її обернену матрицю.*"
      ],
      "metadata": {
        "id": "B5mzc2vj21th"
      }
    },
    {
      "cell_type": "code",
      "source": [
        "rng = np.random.default_rng()\n",
        "# Создание матрицы 3x3 с случайными целыми числами от 1 до 10\n",
        "random_matrix = rng.integers(1, 11, size=(3, 3))\n",
        "random_matrix_inv = np.linalg.inv(random_matrix)\n",
        "print(\"Матрица:\")\n",
        "print(random_matrix)\n",
        "print(\"Обратная матриця:\")\n",
        "print(random_matrix_inv)"
      ],
      "metadata": {
        "colab": {
          "base_uri": "https://localhost:8080/"
        },
        "id": "_Gi7oE2227-p",
        "outputId": "1c6bd03e-4be2-4a13-f4f3-f1f1d329353d"
      },
      "execution_count": null,
      "outputs": [
        {
          "output_type": "stream",
          "name": "stdout",
          "text": [
            "Матриця:\n",
            "[[ 9  1  8]\n",
            " [ 7  5  4]\n",
            " [10 10  5]]\n",
            "Обернена матриця:\n",
            "[[-0.5         2.5        -1.2       ]\n",
            " [ 0.16666667 -1.16666667  0.66666667]\n",
            " [ 0.66666667 -2.66666667  1.26666667]]\n"
          ]
        }
      ]
    },
    {
      "cell_type": "markdown",
      "source": [
        "*9. Створіть матрицю розміром 4x4, заповніть її випадковими дійсними числами в діапазоні від 0 до 1 та транспонуйте її.*"
      ],
      "metadata": {
        "id": "bRUOFJ_j6Wf4"
      }
    },
    {
      "cell_type": "code",
      "source": [
        "rng = np.random.default_rng()\n",
        "random_matrix = rng.random((4, 4))\n",
        "print(\"Транспонованная матрица:\")\n",
        "print(random_matrix.T)"
      ],
      "metadata": {
        "colab": {
          "base_uri": "https://localhost:8080/"
        },
        "id": "6Bh6uAe76bql",
        "outputId": "a543233f-2ce1-4b2e-e679-526b41c3ba8f"
      },
      "execution_count": null,
      "outputs": [
        {
          "output_type": "stream",
          "name": "stdout",
          "text": [
            "Транспонована матриця:\n",
            "[[0.99029461 0.4644398  0.12854492 0.86370194]\n",
            " [0.21551928 0.99829288 0.21791875 0.05958516]\n",
            " [0.43378986 0.33561302 0.12442732 0.00541422]\n",
            " [0.48345504 0.17852373 0.03747564 0.61789809]]\n"
          ]
        }
      ]
    },
    {
      "cell_type": "markdown",
      "source": [
        "*10. Створіть матрицю розміром 3x4 та вектор розміром 4, заповніть їх випадковими цілими числами в діапазоні від 1 до 10 та перемножте матрицю на вектор.*"
      ],
      "metadata": {
        "id": "Ku37JHJy6gOf"
      }
    },
    {
      "cell_type": "code",
      "source": [
        "rng = np.random.default_rng()\n",
        "\n",
        "new_matrix = rng.integers(1, 11, size = (3, 4))\n",
        "print(\"Создана матрица:\")\n",
        "print(new_matrix)\n",
        "new_vector = rng.integers(1, 11, size = 4)\n",
        "print(\"Создан вектор:\")\n",
        "print(new_vector)\n",
        "result = np.dot(new_matrix, new_vector)\n",
        "print(\"Результат умножения:\")\n",
        "print(result)"
      ],
      "metadata": {
        "colab": {
          "base_uri": "https://localhost:8080/"
        },
        "id": "074peABZ6lu0",
        "outputId": "772e1329-cc16-4508-cfda-307e9c57a33a"
      },
      "execution_count": null,
      "outputs": [
        {
          "output_type": "stream",
          "name": "stdout",
          "text": [
            "Створена матриця:\n",
            "[[ 3  8  7  2]\n",
            " [ 1  8 10  3]\n",
            " [ 8  4  3  3]]\n",
            "Створен вектор:\n",
            "[10 10  3  4]\n",
            "Результат умножения:\n",
            "[139 132 141]\n"
          ]
        }
      ]
    },
    {
      "cell_type": "markdown",
      "source": [
        "*11. Створіть матрицю розміром 2x3 та вектор розміром 3, заповніть їх випадковими дійсними числами в діапазоні від 0 до 1 та перемножте матрицю на вектор.*"
      ],
      "metadata": {
        "id": "2-vm6__N37Zi"
      }
    },
    {
      "cell_type": "code",
      "source": [
        "rng = np.random.default_rng()\n",
        "matrix = rng.random(size = (2, 3))\n",
        "print(\"Создана матрица:\")\n",
        "print(matrix)\n",
        "vector = rng.random(size = 3)\n",
        "print(\"Создан вектор:\")\n",
        "print(vector)\n",
        "result = np.dot(matrix, vector)\n",
        "print(\"Результат умножения:\")\n",
        "print(result)"
      ],
      "metadata": {
        "colab": {
          "base_uri": "https://localhost:8080/"
        },
        "id": "uKSMjZO44Npl",
        "outputId": "36afab4f-8093-4e39-981e-959efb2c04bc"
      },
      "execution_count": null,
      "outputs": [
        {
          "output_type": "stream",
          "name": "stdout",
          "text": [
            "Создана матрица:\n",
            "[[0.70535172 0.40135376 0.98177755]\n",
            " [0.01510862 0.90250579 0.81751571]]\n",
            "Создан вектор:\n",
            "[0.90693507 0.02323954 0.98465784]\n",
            "Результат умножения:\n",
            "[1.61575045 0.8396496 ]\n"
          ]
        }
      ]
    },
    {
      "cell_type": "markdown",
      "source": [
        "*12. Створіть дві матриці розміром 2x2, заповніть їх випадковими цілими числами в діапазоні від 1 до 10 та виконайте їхнє поелементне множення.*"
      ],
      "metadata": {
        "id": "uMFtKCOXEsot"
      }
    },
    {
      "cell_type": "code",
      "source": [
        "rng = np.random.default_rng()\n",
        "matrix1  = rng.integers(1, 11, size = (2, 2))\n",
        "print(\"Создана матрица 1:\")\n",
        "print(matrix1)\n",
        "matrix2 = rng.integers(1, 11, size = (2, 2))\n",
        "print(\"Создана матрица 2:\")\n",
        "print(matrix2)\n",
        "result = matrix1 * matrix2\n",
        "print(\"Результат умножения:\")\n",
        "print(result)\n"
      ],
      "metadata": {
        "colab": {
          "base_uri": "https://localhost:8080/"
        },
        "id": "vWw8pkIGE1hh",
        "outputId": "ca9d13a5-ca61-436d-aca8-62f0907a4c71"
      },
      "execution_count": null,
      "outputs": [
        {
          "output_type": "stream",
          "name": "stdout",
          "text": [
            "Создана матрица 1:\n",
            "[[ 2 10]\n",
            " [ 2  7]]\n",
            "Создана матрица 2:\n",
            "[[ 6  9]\n",
            " [10  8]]\n",
            "Результат умножения:\n",
            "[[12 90]\n",
            " [20 56]]\n"
          ]
        }
      ]
    },
    {
      "cell_type": "markdown",
      "source": [
        "*13.Створіть дві матриці розміром 2x2, заповніть їх випадковими цілими числами в діапазоні від 1 до 10 та знайдіть їх добуток.*"
      ],
      "metadata": {
        "id": "F4VsUd5RF58e"
      }
    },
    {
      "cell_type": "code",
      "source": [
        "rng = np.random.default_rng()\n",
        "matrix1 = rng.integers(1, 11, size = (2, 2))\n",
        "print(\"Создана матрица 1:\")\n",
        "print(matrix1)\n",
        "matrix2 = rng.integers(1, 11, size = (2, 2))\n",
        "print(\"Создана матрица 2:\")\n",
        "print(matrix2)\n",
        "product_matrix = np.dot(matrix1, matrix2)\n",
        "print(\"Результат умножения:\")\n",
        "print(product_matrix)\n"
      ],
      "metadata": {
        "colab": {
          "base_uri": "https://localhost:8080/"
        },
        "id": "2rAz5tzNGMnc",
        "outputId": "e02e6d28-3850-472c-e5c3-25db985a18c8"
      },
      "execution_count": null,
      "outputs": [
        {
          "output_type": "stream",
          "name": "stdout",
          "text": [
            "Создана матрица 1:\n",
            "[[10  6]\n",
            " [ 3  2]]\n",
            "Создана матрица 2:\n",
            "[[2 7]\n",
            " [4 8]]\n",
            "Результат умножения:\n",
            "[[ 44 118]\n",
            " [ 14  37]]\n"
          ]
        }
      ]
    },
    {
      "cell_type": "markdown",
      "source": [
        "*14. Створіть матрицю розміром 5x5, заповніть її випадковими цілими числами в діапазоні від 1 до 100 та знайдіть суму елементів матриці.*"
      ],
      "metadata": {
        "id": "oohSYvaXIQaW"
      }
    },
    {
      "cell_type": "code",
      "source": [
        "rng = np.random.default_rng()\n",
        "matrix = rng.integers(1, 101, size=(5, 5))\n",
        "print(\"Создана матрица:\")\n",
        "print(matrix)\n",
        "total_sum = np.sum(matrix)\n",
        "print(\"Сума елементів матриці:\", total_sum)"
      ],
      "metadata": {
        "colab": {
          "base_uri": "https://localhost:8080/"
        },
        "id": "C5EDzej7IU-g",
        "outputId": "f75449a7-6668-41dc-b52c-cb02f4f29ef7"
      },
      "execution_count": null,
      "outputs": [
        {
          "output_type": "stream",
          "name": "stdout",
          "text": [
            "Создана матрица:\n",
            "[[ 99  64  82  13  35]\n",
            " [ 35  40  42  11  76]\n",
            " [ 42 100  64   6  14]\n",
            " [ 78  79  60  35  31]\n",
            " [ 92  63   9  28  59]]\n",
            "Сума елементів матриці: 1257\n"
          ]
        }
      ]
    },
    {
      "cell_type": "markdown",
      "source": [
        "*15.Створіть дві матриці розміром 4x4, заповніть їх випадковими цілими числами в діапазоні від 1 до 10 та знайдіть їхню різницю.*"
      ],
      "metadata": {
        "id": "QcD2kN_QLDvY"
      }
    },
    {
      "cell_type": "code",
      "source": [
        "rng = np.random.default_rng()\n",
        "matrix1 = rng.integers(1, 11, size = (4, 4))\n",
        "print(\"Создана матрица 1:\")\n",
        "print(matrix1)\n",
        "matrix2 = rng.integers(1, 11, size = (4, 4))\n",
        "print(\"Создана матрица 2:\")\n",
        "print(matrix2)\n",
        "result = matrix1 - matrix2\n",
        "print(\"Результат отнимания:\")\n",
        "print(result)\n",
        "\n"
      ],
      "metadata": {
        "colab": {
          "base_uri": "https://localhost:8080/"
        },
        "id": "dW7HHYYxLNVm",
        "outputId": "ed92864e-deb0-4de3-a65c-51710de3bed7"
      },
      "execution_count": null,
      "outputs": [
        {
          "output_type": "stream",
          "name": "stdout",
          "text": [
            "Создана матрица 1:\n",
            "[[10  3  4  3]\n",
            " [ 9  6  5 10]\n",
            " [ 7  7  8  1]\n",
            " [ 9 10  2  7]]\n",
            "Создана матрица 2:\n",
            "[[ 2 10  8  8]\n",
            " [ 5  3  7  1]\n",
            " [ 1  1  8  5]\n",
            " [ 1  8  2 10]]\n",
            "Результат отнимания:\n",
            "[[ 8 -7 -4 -5]\n",
            " [ 4  3 -2  9]\n",
            " [ 6  6  0 -4]\n",
            " [ 8  2  0 -3]]\n"
          ]
        }
      ]
    },
    {
      "cell_type": "markdown",
      "source": [
        "*16.Створіть матрицю розміром 3x3, заповніть її випадковими дійсними числами в діапазоні від 0 до 1 та знайдіть вектор-стовпчик, що містить суму елементів кожного рядка матриці.*"
      ],
      "metadata": {
        "id": "OHyrzuH-L4Uw"
      }
    },
    {
      "cell_type": "code",
      "source": [
        "rng =  np.random.default_rng()\n",
        "matrix = rng.random(size = (3,3))\n",
        "print(\"Создана матрица:\")\n",
        "print(matrix)\n",
        "row_sums = np.sum(matrix, axis = 1)\n",
        "print(\"Вектор-стовпчик сум елементів кожного рядка:\")\n",
        "print(row_sums.reshape(-1, 1))"
      ],
      "metadata": {
        "colab": {
          "base_uri": "https://localhost:8080/"
        },
        "id": "gxVc_zY0L7n0",
        "outputId": "83a047d0-1bd0-4230-8ae3-4a35a6bb3e3a"
      },
      "execution_count": 10,
      "outputs": [
        {
          "output_type": "stream",
          "name": "stdout",
          "text": [
            "Создана матрица:\n",
            "[[0.05839308 0.53909702 0.79240524]\n",
            " [0.69569408 0.00914331 0.19207517]\n",
            " [0.01347572 0.45686829 0.29935315]]\n",
            "Вектор-стовпчик сум елементів кожного рядка:\n",
            "[[1.38989535]\n",
            " [0.89691256]\n",
            " [0.76969715]]\n"
          ]
        }
      ]
    },
    {
      "cell_type": "markdown",
      "source": [
        "*17.Створіть матрицю розміром 3x4 з довільними цілими числами і створінь матрицю з квадратами цих чисел.*"
      ],
      "metadata": {
        "id": "gIuY3k-DMEG1"
      }
    },
    {
      "cell_type": "code",
      "source": [
        "rng = np.random.default_rng()\n",
        "\n",
        "matrix1 = rng.integers(1, 100, size=(3, 4))\n",
        "print(\"Создана матрица:\")\n",
        "print(matrix1)\n",
        "\n",
        "squared_matrix = matrix1**2\n",
        "print(\"Матрица с квадратами кода:\")\n",
        "print(squared_matrix)"
      ],
      "metadata": {
        "id": "wjdXelm-MH0a",
        "colab": {
          "base_uri": "https://localhost:8080/"
        },
        "outputId": "8b564bcd-2cc1-4f5a-b314-b4b68d7feb90"
      },
      "execution_count": 13,
      "outputs": [
        {
          "output_type": "stream",
          "name": "stdout",
          "text": [
            "Создана матрица:\n",
            "[[12 40 22 66]\n",
            " [32 99 79 91]\n",
            " [79 30 13 64]]\n",
            "Матрица с квадратами кода:\n",
            "[[ 144 1600  484 4356]\n",
            " [1024 9801 6241 8281]\n",
            " [6241  900  169 4096]]\n"
          ]
        }
      ]
    },
    {
      "cell_type": "markdown",
      "source": [
        "*18.Створіть вектор розміром 4, заповніть його випадковими цілими числами в діапазоні від 1 до 50 та знайдіть вектор з квадратними коренями цих чисел.*"
      ],
      "metadata": {
        "id": "FYtn0vvdMJ4i"
      }
    },
    {
      "cell_type": "code",
      "source": [
        "rng = np.random.default_rng()\n",
        "\n",
        "vector1 = rng.integers(1, 51, size=4)\n",
        "print(\"Создан вектор:\")\n",
        "print(vector1)\n",
        "\n",
        "sqrt_vector = np.sqrt(vector1)\n",
        "print(\"Вектор с квадратними корнями:\")\n",
        "print(sqrt_vector)"
      ],
      "metadata": {
        "id": "cT6f1xegMNNP",
        "colab": {
          "base_uri": "https://localhost:8080/"
        },
        "outputId": "910e3934-6368-4e9e-da84-0bd769d6021a"
      },
      "execution_count": 16,
      "outputs": [
        {
          "output_type": "stream",
          "name": "stdout",
          "text": [
            "Создан вектор:\n",
            "[ 2 25 21  5]\n",
            "Вектор с квадратними корнями:\n",
            "[1.41421356 5.         4.58257569 2.23606798]\n"
          ]
        }
      ]
    }
  ]
}