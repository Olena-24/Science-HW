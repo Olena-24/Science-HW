{
 "cells": [
  {
   "cell_type": "code",
   "execution_count": 119,
   "metadata": {},
   "outputs": [],
   "source": [
    "import pandas as pd\n",
    "import matplotlib.pyplot as plt"
   ]
  },
  {
   "cell_type": "code",
   "execution_count": 120,
   "metadata": {},
   "outputs": [
    {
     "data": {
      "text/html": [
       "<div>\n",
       "<style scoped>\n",
       "    .dataframe tbody tr th:only-of-type {\n",
       "        vertical-align: middle;\n",
       "    }\n",
       "\n",
       "    .dataframe tbody tr th {\n",
       "        vertical-align: top;\n",
       "    }\n",
       "\n",
       "    .dataframe thead th {\n",
       "        text-align: right;\n",
       "    }\n",
       "</style>\n",
       "<table border=\"1\" class=\"dataframe\">\n",
       "  <thead>\n",
       "    <tr style=\"text-align: right;\">\n",
       "      <th></th>\n",
       "      <th>Name</th>\n",
       "      <th>Author</th>\n",
       "      <th>User Rating</th>\n",
       "      <th>Reviews</th>\n",
       "      <th>Price</th>\n",
       "      <th>Year</th>\n",
       "      <th>Genre</th>\n",
       "    </tr>\n",
       "  </thead>\n",
       "  <tbody>\n",
       "    <tr>\n",
       "      <th>0</th>\n",
       "      <td>10-Day Green Smoothie Cleanse</td>\n",
       "      <td>JJ Smith</td>\n",
       "      <td>4.7</td>\n",
       "      <td>17350</td>\n",
       "      <td>8</td>\n",
       "      <td>2016</td>\n",
       "      <td>Non Fiction</td>\n",
       "    </tr>\n",
       "    <tr>\n",
       "      <th>1</th>\n",
       "      <td>11/22/63: A Novel</td>\n",
       "      <td>Stephen King</td>\n",
       "      <td>4.6</td>\n",
       "      <td>2052</td>\n",
       "      <td>22</td>\n",
       "      <td>2011</td>\n",
       "      <td>Fiction</td>\n",
       "    </tr>\n",
       "    <tr>\n",
       "      <th>2</th>\n",
       "      <td>12 Rules for Life: An Antidote to Chaos</td>\n",
       "      <td>Jordan B. Peterson</td>\n",
       "      <td>4.7</td>\n",
       "      <td>18979</td>\n",
       "      <td>15</td>\n",
       "      <td>2018</td>\n",
       "      <td>Non Fiction</td>\n",
       "    </tr>\n",
       "    <tr>\n",
       "      <th>3</th>\n",
       "      <td>1984 (Signet Classics)</td>\n",
       "      <td>George Orwell</td>\n",
       "      <td>4.7</td>\n",
       "      <td>21424</td>\n",
       "      <td>6</td>\n",
       "      <td>2017</td>\n",
       "      <td>Fiction</td>\n",
       "    </tr>\n",
       "    <tr>\n",
       "      <th>4</th>\n",
       "      <td>5,000 Awesome Facts (About Everything!) (Natio...</td>\n",
       "      <td>National Geographic Kids</td>\n",
       "      <td>4.8</td>\n",
       "      <td>7665</td>\n",
       "      <td>12</td>\n",
       "      <td>2019</td>\n",
       "      <td>Non Fiction</td>\n",
       "    </tr>\n",
       "  </tbody>\n",
       "</table>\n",
       "</div>"
      ],
      "text/plain": [
       "                                                Name  \\\n",
       "0                      10-Day Green Smoothie Cleanse   \n",
       "1                                  11/22/63: A Novel   \n",
       "2            12 Rules for Life: An Antidote to Chaos   \n",
       "3                             1984 (Signet Classics)   \n",
       "4  5,000 Awesome Facts (About Everything!) (Natio...   \n",
       "\n",
       "                     Author  User Rating  Reviews  Price  Year        Genre  \n",
       "0                  JJ Smith          4.7    17350      8  2016  Non Fiction  \n",
       "1              Stephen King          4.6     2052     22  2011      Fiction  \n",
       "2        Jordan B. Peterson          4.7    18979     15  2018  Non Fiction  \n",
       "3             George Orwell          4.7    21424      6  2017      Fiction  \n",
       "4  National Geographic Kids          4.8     7665     12  2019  Non Fiction  "
      ]
     },
     "execution_count": 120,
     "metadata": {},
     "output_type": "execute_result"
    }
   ],
   "source": [
    "df = pd.read_csv(\"bestsellers with categories.csv.xls\")\n",
    "df.head(5)"
   ]
  },
  {
   "cell_type": "code",
   "execution_count": 121,
   "metadata": {},
   "outputs": [
    {
     "data": {
      "text/plain": [
       "(550, 7)"
      ]
     },
     "execution_count": 121,
     "metadata": {},
     "output_type": "execute_result"
    }
   ],
   "source": [
    "df.shape"
   ]
  },
  {
   "cell_type": "code",
   "execution_count": 122,
   "metadata": {},
   "outputs": [
    {
     "name": "stdout",
     "output_type": "stream",
     "text": [
      "Датасет хранит данные о 351 книге.\n"
     ]
    }
   ],
   "source": [
    "names_count = df['Name'].nunique()\n",
    "print(f\"Датасет хранит данные о {names_count} книге.\")"
   ]
  },
  {
   "cell_type": "code",
   "execution_count": 123,
   "metadata": {},
   "outputs": [
    {
     "data": {
      "text/html": [
       "<div>\n",
       "<style scoped>\n",
       "    .dataframe tbody tr th:only-of-type {\n",
       "        vertical-align: middle;\n",
       "    }\n",
       "\n",
       "    .dataframe tbody tr th {\n",
       "        vertical-align: top;\n",
       "    }\n",
       "\n",
       "    .dataframe thead th {\n",
       "        text-align: right;\n",
       "    }\n",
       "</style>\n",
       "<table border=\"1\" class=\"dataframe\">\n",
       "  <thead>\n",
       "    <tr style=\"text-align: right;\">\n",
       "      <th></th>\n",
       "      <th>name</th>\n",
       "      <th>author</th>\n",
       "      <th>user_rating</th>\n",
       "      <th>reviews</th>\n",
       "      <th>price</th>\n",
       "      <th>year</th>\n",
       "      <th>genre</th>\n",
       "    </tr>\n",
       "  </thead>\n",
       "  <tbody>\n",
       "    <tr>\n",
       "      <th>0</th>\n",
       "      <td>10-Day Green Smoothie Cleanse</td>\n",
       "      <td>JJ Smith</td>\n",
       "      <td>4.7</td>\n",
       "      <td>17350</td>\n",
       "      <td>8</td>\n",
       "      <td>2016</td>\n",
       "      <td>Non Fiction</td>\n",
       "    </tr>\n",
       "    <tr>\n",
       "      <th>1</th>\n",
       "      <td>11/22/63: A Novel</td>\n",
       "      <td>Stephen King</td>\n",
       "      <td>4.6</td>\n",
       "      <td>2052</td>\n",
       "      <td>22</td>\n",
       "      <td>2011</td>\n",
       "      <td>Fiction</td>\n",
       "    </tr>\n",
       "    <tr>\n",
       "      <th>2</th>\n",
       "      <td>12 Rules for Life: An Antidote to Chaos</td>\n",
       "      <td>Jordan B. Peterson</td>\n",
       "      <td>4.7</td>\n",
       "      <td>18979</td>\n",
       "      <td>15</td>\n",
       "      <td>2018</td>\n",
       "      <td>Non Fiction</td>\n",
       "    </tr>\n",
       "    <tr>\n",
       "      <th>3</th>\n",
       "      <td>1984 (Signet Classics)</td>\n",
       "      <td>George Orwell</td>\n",
       "      <td>4.7</td>\n",
       "      <td>21424</td>\n",
       "      <td>6</td>\n",
       "      <td>2017</td>\n",
       "      <td>Fiction</td>\n",
       "    </tr>\n",
       "    <tr>\n",
       "      <th>4</th>\n",
       "      <td>5,000 Awesome Facts (About Everything!) (Natio...</td>\n",
       "      <td>National Geographic Kids</td>\n",
       "      <td>4.8</td>\n",
       "      <td>7665</td>\n",
       "      <td>12</td>\n",
       "      <td>2019</td>\n",
       "      <td>Non Fiction</td>\n",
       "    </tr>\n",
       "    <tr>\n",
       "      <th>...</th>\n",
       "      <td>...</td>\n",
       "      <td>...</td>\n",
       "      <td>...</td>\n",
       "      <td>...</td>\n",
       "      <td>...</td>\n",
       "      <td>...</td>\n",
       "      <td>...</td>\n",
       "    </tr>\n",
       "    <tr>\n",
       "      <th>545</th>\n",
       "      <td>Wrecking Ball (Diary of a Wimpy Kid Book 14)</td>\n",
       "      <td>Jeff Kinney</td>\n",
       "      <td>4.9</td>\n",
       "      <td>9413</td>\n",
       "      <td>8</td>\n",
       "      <td>2019</td>\n",
       "      <td>Fiction</td>\n",
       "    </tr>\n",
       "    <tr>\n",
       "      <th>546</th>\n",
       "      <td>You Are a Badass: How to Stop Doubting Your Gr...</td>\n",
       "      <td>Jen Sincero</td>\n",
       "      <td>4.7</td>\n",
       "      <td>14331</td>\n",
       "      <td>8</td>\n",
       "      <td>2016</td>\n",
       "      <td>Non Fiction</td>\n",
       "    </tr>\n",
       "    <tr>\n",
       "      <th>547</th>\n",
       "      <td>You Are a Badass: How to Stop Doubting Your Gr...</td>\n",
       "      <td>Jen Sincero</td>\n",
       "      <td>4.7</td>\n",
       "      <td>14331</td>\n",
       "      <td>8</td>\n",
       "      <td>2017</td>\n",
       "      <td>Non Fiction</td>\n",
       "    </tr>\n",
       "    <tr>\n",
       "      <th>548</th>\n",
       "      <td>You Are a Badass: How to Stop Doubting Your Gr...</td>\n",
       "      <td>Jen Sincero</td>\n",
       "      <td>4.7</td>\n",
       "      <td>14331</td>\n",
       "      <td>8</td>\n",
       "      <td>2018</td>\n",
       "      <td>Non Fiction</td>\n",
       "    </tr>\n",
       "    <tr>\n",
       "      <th>549</th>\n",
       "      <td>You Are a Badass: How to Stop Doubting Your Gr...</td>\n",
       "      <td>Jen Sincero</td>\n",
       "      <td>4.7</td>\n",
       "      <td>14331</td>\n",
       "      <td>8</td>\n",
       "      <td>2019</td>\n",
       "      <td>Non Fiction</td>\n",
       "    </tr>\n",
       "  </tbody>\n",
       "</table>\n",
       "<p>550 rows × 7 columns</p>\n",
       "</div>"
      ],
      "text/plain": [
       "                                                  name  \\\n",
       "0                        10-Day Green Smoothie Cleanse   \n",
       "1                                    11/22/63: A Novel   \n",
       "2              12 Rules for Life: An Antidote to Chaos   \n",
       "3                               1984 (Signet Classics)   \n",
       "4    5,000 Awesome Facts (About Everything!) (Natio...   \n",
       "..                                                 ...   \n",
       "545       Wrecking Ball (Diary of a Wimpy Kid Book 14)   \n",
       "546  You Are a Badass: How to Stop Doubting Your Gr...   \n",
       "547  You Are a Badass: How to Stop Doubting Your Gr...   \n",
       "548  You Are a Badass: How to Stop Doubting Your Gr...   \n",
       "549  You Are a Badass: How to Stop Doubting Your Gr...   \n",
       "\n",
       "                       author  user_rating  reviews  price  year        genre  \n",
       "0                    JJ Smith          4.7    17350      8  2016  Non Fiction  \n",
       "1                Stephen King          4.6     2052     22  2011      Fiction  \n",
       "2          Jordan B. Peterson          4.7    18979     15  2018  Non Fiction  \n",
       "3               George Orwell          4.7    21424      6  2017      Fiction  \n",
       "4    National Geographic Kids          4.8     7665     12  2019  Non Fiction  \n",
       "..                        ...          ...      ...    ...   ...          ...  \n",
       "545               Jeff Kinney          4.9     9413      8  2019      Fiction  \n",
       "546               Jen Sincero          4.7    14331      8  2016  Non Fiction  \n",
       "547               Jen Sincero          4.7    14331      8  2017  Non Fiction  \n",
       "548               Jen Sincero          4.7    14331      8  2018  Non Fiction  \n",
       "549               Jen Sincero          4.7    14331      8  2019  Non Fiction  \n",
       "\n",
       "[550 rows x 7 columns]"
      ]
     },
     "execution_count": 123,
     "metadata": {},
     "output_type": "execute_result"
    }
   ],
   "source": [
    "df.columns = [\"name\", \"author\", \"user_rating\", \"reviews\", \"price\", \"year\", \"genre\"]\n",
    "df"
   ]
  },
  {
   "cell_type": "code",
   "execution_count": 146,
   "metadata": {},
   "outputs": [
    {
     "name": "stdout",
     "output_type": "stream",
     "text": [
      "Ответ:  Пропуски есть\n"
     ]
    },
    {
     "name": "stderr",
     "output_type": "stream",
     "text": [
      "/var/folders/_h/wyw9cn652zqf9l15y0dw01840000gn/T/ipykernel_82335/1040125350.py:3: FutureWarning: Calling int on a single element Series is deprecated and will raise a TypeError in the future. Use int(ser.iloc[0]) instead\n",
      "  print(\"Ответ: \", [\"Пропусков нет.\", \"Пропуски есть\"][int(_.all())])\n"
     ]
    }
   ],
   "source": [
    "#1. Первинне дослідження даних\n",
    "df.isna().sum(axis=0)\n",
    "print(\"Ответ: \", [\"Пропусков нет.\", \"Пропуски есть\"][int(_.all())])"
   ]
  },
  {
   "cell_type": "code",
   "execution_count": 127,
   "metadata": {},
   "outputs": [
    {
     "name": "stdout",
     "output_type": "stream",
     "text": [
      "Ответ:  ['Non Fiction' 'Fiction']\n"
     ]
    }
   ],
   "source": [
    "#Які є унікальні жанри?\n",
    "df.genre.unique()\n",
    "print(\"Ответ: \", df.genre.unique())"
   ]
  },
  {
   "cell_type": "code",
   "execution_count": 129,
   "metadata": {},
   "outputs": [
    {
     "data": {
      "image/png": "[encoded data removed]",
      "text/plain": [
       "<Figure size 640x480 with 1 Axes>"
      ]
     },
     "metadata": {},
     "output_type": "display_data"
    }
   ],
   "source": [
    "#Тепер подивіться на розподіл цін: побудуйте діаграму (використовуйте kind='hist')\n",
    "plot = df.price.plot(kind='hist', bins=50, edgecolor=\"white\", grid=True)\n",
    "plt.xlabel('Price')  \n",
    "plt.ylabel('Frequency')  \n",
    "plt.title('Distribution of Prices')  \n",
    "plt.show()\n"
   ]
  },
  {
   "cell_type": "code",
   "execution_count": 130,
   "metadata": {},
   "outputs": [
    {
     "name": "stdout",
     "output_type": "stream",
     "text": [
      "Максимальная цена: 105\n",
      "Минимальная цена: 0\n",
      "Средняя цена: 13.1\n",
      "Медианная цена: 11.0\n"
     ]
    }
   ],
   "source": [
    "#Визначте, яка ціна у нас максимальна, мінімальна, середня, медіанна\n",
    "# (використовуйте функції max, min, mean, median)\n",
    "print(f\"Максимальная цена: {df.price.max()}\")\n",
    "print(f\"Минимальная цена: {df.price.min()}\")\n",
    "print(f\"Средняя цена: {df.price.mean()}\")\n",
    "print(f\"Медианная цена: {df.price.median()}\")\n",
    "\n"
   ]
  },
  {
   "cell_type": "code",
   "execution_count": 131,
   "metadata": {},
   "outputs": [
    {
     "name": "stdout",
     "output_type": "stream",
     "text": [
      "Найбольший рейтинг в датасете 4.9\n"
     ]
    }
   ],
   "source": [
    "#2. Пошук та сортування даних\n",
    "#Який рейтинг у датасеті найвищий?\n",
    "print(f\"Найбольший рейтинг в датасете {df.user_rating.max()}\")"
   ]
  },
  {
   "cell_type": "code",
   "execution_count": 132,
   "metadata": {},
   "outputs": [
    {
     "name": "stdout",
     "output_type": "stream",
     "text": [
      "28 книг имеют самый высокий рейтинг.\n"
     ]
    }
   ],
   "source": [
    "#Скільки книг мають такий рейтинг?\n",
    "df_size = df.name[(df.user_rating == df.user_rating.max())].unique().size\n",
    "print(f\"{df_size} книг имеют самый высокий рейтинг.\")"
   ]
  },
  {
   "cell_type": "code",
   "execution_count": 133,
   "metadata": {},
   "outputs": [
    {
     "name": "stdout",
     "output_type": "stream",
     "text": [
      "Книга с наибольшим количеством отзывов: Where the Crawdads Sing (2019)\n"
     ]
    }
   ],
   "source": [
    "books_with_max_reviews = df[df['reviews'] == max_reviews][['name', 'year']]\n",
    "\n",
    "for index, row in books_with_max_reviews.iterrows():\n",
    "    print(f\"Книга с наибольшим количеством отзывов: {row['name']} ({row['year']})\")\n"
   ]
  },
  {
   "cell_type": "code",
   "execution_count": 134,
   "metadata": {},
   "outputs": [
    {
     "data": {
      "text/html": [
       "<div>\n",
       "<style scoped>\n",
       "    .dataframe tbody tr th:only-of-type {\n",
       "        vertical-align: middle;\n",
       "    }\n",
       "\n",
       "    .dataframe tbody tr th {\n",
       "        vertical-align: top;\n",
       "    }\n",
       "\n",
       "    .dataframe thead th {\n",
       "        text-align: right;\n",
       "    }\n",
       "</style>\n",
       "<table border=\"1\" class=\"dataframe\">\n",
       "  <thead>\n",
       "    <tr style=\"text-align: right;\">\n",
       "      <th></th>\n",
       "      <th>name</th>\n",
       "      <th>author</th>\n",
       "      <th>user_rating</th>\n",
       "      <th>reviews</th>\n",
       "      <th>price</th>\n",
       "      <th>year</th>\n",
       "      <th>genre</th>\n",
       "    </tr>\n",
       "  </thead>\n",
       "  <tbody>\n",
       "    <tr>\n",
       "      <th>277</th>\n",
       "      <td>Publication Manual of the American Psychologic...</td>\n",
       "      <td>American Psychological Association</td>\n",
       "      <td>4.5</td>\n",
       "      <td>8580</td>\n",
       "      <td>46</td>\n",
       "      <td>2015</td>\n",
       "      <td>Non Fiction</td>\n",
       "    </tr>\n",
       "  </tbody>\n",
       "</table>\n",
       "</div>"
      ],
      "text/plain": [
       "                                                  name  \\\n",
       "277  Publication Manual of the American Psychologic...   \n",
       "\n",
       "                                 author  user_rating  reviews  price  year  \\\n",
       "277  American Psychological Association          4.5     8580     46  2015   \n",
       "\n",
       "           genre  \n",
       "277  Non Fiction  "
      ]
     },
     "execution_count": 134,
     "metadata": {},
     "output_type": "execute_result"
    }
   ],
   "source": [
    "#З тих книг, що потрапили до Топ-50 у 2015 році, яка книга найдорожча\n",
    "# (можна використати проміжний датафрейм)?\n",
    "\n",
    "df[df.year == 2015].sort_values(by=\"user_rating\", ascending=False)\\\n",
    ".drop_duplicates(subset=\"name\").iloc[:50].nlargest(1, \"price\")"
   ]
  },
  {
   "cell_type": "code",
   "execution_count": 135,
   "metadata": {},
   "outputs": [
    {
     "name": "stdout",
     "output_type": "stream",
     "text": [
      "Такого жанра было 20 книг.\n"
     ]
    }
   ],
   "source": [
    "#Скільки книг жанру Fiction потрапили до Топ-50 у 2010 році (використовуйте &)?\n",
    "\n",
    "result = df[(df.year == 2010) & (df.genre == \"Fiction\")]\n",
    "print(f\"Такого жанра было {result.shape[0]} книг.\")"
   ]
  },
  {
   "cell_type": "code",
   "execution_count": 136,
   "metadata": {},
   "outputs": [
    {
     "name": "stdout",
     "output_type": "stream",
     "text": [
      "Кількість книг з рейтингом 4.9 у 2010 та 2011 роках: 1\n"
     ]
    }
   ],
   "source": [
    "#Скільки книг з рейтингом 4.9 потрапило до рейтингу у 2010 та 2011 роках\n",
    "\n",
    "books_with_rating_4_9 = df[(df.user_rating == 4.9) & (df.year.isin([2010, 2011]))]\n",
    "\n",
    "print(f\"Кількість книг з рейтингом 4.9 у 2010 та 2011 роках: {books_with_rating_4_9.shape[0]}\")"
   ]
  },
  {
   "cell_type": "code",
   "execution_count": 137,
   "metadata": {},
   "outputs": [
    {
     "data": {
      "text/html": [
       "<div>\n",
       "<style scoped>\n",
       "    .dataframe tbody tr th:only-of-type {\n",
       "        vertical-align: middle;\n",
       "    }\n",
       "\n",
       "    .dataframe tbody tr th {\n",
       "        vertical-align: top;\n",
       "    }\n",
       "\n",
       "    .dataframe thead th {\n",
       "        text-align: right;\n",
       "    }\n",
       "</style>\n",
       "<table border=\"1\" class=\"dataframe\">\n",
       "  <thead>\n",
       "    <tr style=\"text-align: right;\">\n",
       "      <th></th>\n",
       "      <th>name</th>\n",
       "      <th>author</th>\n",
       "      <th>user_rating</th>\n",
       "      <th>reviews</th>\n",
       "      <th>price</th>\n",
       "      <th>year</th>\n",
       "      <th>genre</th>\n",
       "    </tr>\n",
       "  </thead>\n",
       "  <tbody>\n",
       "    <tr>\n",
       "      <th>507</th>\n",
       "      <td>To Kill a Mockingbird</td>\n",
       "      <td>Harper Lee</td>\n",
       "      <td>4.8</td>\n",
       "      <td>26234</td>\n",
       "      <td>0</td>\n",
       "      <td>2015</td>\n",
       "      <td>Fiction</td>\n",
       "    </tr>\n",
       "    <tr>\n",
       "      <th>210</th>\n",
       "      <td>Laugh-Out-Loud Jokes for Kids</td>\n",
       "      <td>Rob Elliott</td>\n",
       "      <td>4.6</td>\n",
       "      <td>6990</td>\n",
       "      <td>4</td>\n",
       "      <td>2015</td>\n",
       "      <td>Non Fiction</td>\n",
       "    </tr>\n",
       "    <tr>\n",
       "      <th>206</th>\n",
       "      <td>Knock-Knock Jokes for Kids</td>\n",
       "      <td>Rob Elliott</td>\n",
       "      <td>4.5</td>\n",
       "      <td>3673</td>\n",
       "      <td>4</td>\n",
       "      <td>2015</td>\n",
       "      <td>Non Fiction</td>\n",
       "    </tr>\n",
       "    <tr>\n",
       "      <th>111</th>\n",
       "      <td>First 100 Words</td>\n",
       "      <td>Roger Priddy</td>\n",
       "      <td>4.7</td>\n",
       "      <td>17323</td>\n",
       "      <td>4</td>\n",
       "      <td>2015</td>\n",
       "      <td>Non Fiction</td>\n",
       "    </tr>\n",
       "    <tr>\n",
       "      <th>123</th>\n",
       "      <td>Giraffes Can't Dance</td>\n",
       "      <td>Giles Andreae</td>\n",
       "      <td>4.8</td>\n",
       "      <td>14038</td>\n",
       "      <td>4</td>\n",
       "      <td>2015</td>\n",
       "      <td>Fiction</td>\n",
       "    </tr>\n",
       "    <tr>\n",
       "      <th>54</th>\n",
       "      <td>Creative Haven Creative Cats Coloring Book (Ad...</td>\n",
       "      <td>Marjorie Sarnat</td>\n",
       "      <td>4.8</td>\n",
       "      <td>4022</td>\n",
       "      <td>4</td>\n",
       "      <td>2015</td>\n",
       "      <td>Non Fiction</td>\n",
       "    </tr>\n",
       "    <tr>\n",
       "      <th>63</th>\n",
       "      <td>Dear Zoo: A Lift-the-Flap Book</td>\n",
       "      <td>Rod Campbell</td>\n",
       "      <td>4.8</td>\n",
       "      <td>10922</td>\n",
       "      <td>5</td>\n",
       "      <td>2015</td>\n",
       "      <td>Fiction</td>\n",
       "    </tr>\n",
       "    <tr>\n",
       "      <th>89</th>\n",
       "      <td>Dover Creative Haven Art Nouveau Animal Design...</td>\n",
       "      <td>Marty Noble</td>\n",
       "      <td>4.6</td>\n",
       "      <td>2134</td>\n",
       "      <td>5</td>\n",
       "      <td>2015</td>\n",
       "      <td>Non Fiction</td>\n",
       "    </tr>\n",
       "    <tr>\n",
       "      <th>478</th>\n",
       "      <td>The Very Hungry Caterpillar</td>\n",
       "      <td>Eric Carle</td>\n",
       "      <td>4.9</td>\n",
       "      <td>19546</td>\n",
       "      <td>5</td>\n",
       "      <td>2015</td>\n",
       "      <td>Fiction</td>\n",
       "    </tr>\n",
       "    <tr>\n",
       "      <th>201</th>\n",
       "      <td>Killing Reagan: The Violent Assault That Chang...</td>\n",
       "      <td>Bill O'Reilly</td>\n",
       "      <td>4.6</td>\n",
       "      <td>5235</td>\n",
       "      <td>5</td>\n",
       "      <td>2015</td>\n",
       "      <td>Non Fiction</td>\n",
       "    </tr>\n",
       "    <tr>\n",
       "      <th>28</th>\n",
       "      <td>Baby Touch and Feel: Animals</td>\n",
       "      <td>DK</td>\n",
       "      <td>4.6</td>\n",
       "      <td>5360</td>\n",
       "      <td>5</td>\n",
       "      <td>2015</td>\n",
       "      <td>Non Fiction</td>\n",
       "    </tr>\n",
       "    <tr>\n",
       "      <th>224</th>\n",
       "      <td>Love You Forever</td>\n",
       "      <td>Robert Munsch</td>\n",
       "      <td>4.8</td>\n",
       "      <td>18613</td>\n",
       "      <td>5</td>\n",
       "      <td>2015</td>\n",
       "      <td>Fiction</td>\n",
       "    </tr>\n",
       "    <tr>\n",
       "      <th>55</th>\n",
       "      <td>Creative Haven Owls Coloring Book (Adult Color...</td>\n",
       "      <td>Marjorie Sarnat</td>\n",
       "      <td>4.8</td>\n",
       "      <td>3871</td>\n",
       "      <td>5</td>\n",
       "      <td>2015</td>\n",
       "      <td>Non Fiction</td>\n",
       "    </tr>\n",
       "    <tr>\n",
       "      <th>17</th>\n",
       "      <td>Adult Coloring Book: Stress Relieving Patterns</td>\n",
       "      <td>Blue Star Coloring</td>\n",
       "      <td>4.4</td>\n",
       "      <td>2951</td>\n",
       "      <td>6</td>\n",
       "      <td>2015</td>\n",
       "      <td>Non Fiction</td>\n",
       "    </tr>\n",
       "    <tr>\n",
       "      <th>376</th>\n",
       "      <td>The Four Agreements: A Practical Guide to Pers...</td>\n",
       "      <td>Don Miguel Ruiz</td>\n",
       "      <td>4.7</td>\n",
       "      <td>23308</td>\n",
       "      <td>6</td>\n",
       "      <td>2015</td>\n",
       "      <td>Non Fiction</td>\n",
       "    </tr>\n",
       "    <tr>\n",
       "      <th>16</th>\n",
       "      <td>Adult Coloring Book: Stress Relieving Animal D...</td>\n",
       "      <td>Blue Star Coloring</td>\n",
       "      <td>4.6</td>\n",
       "      <td>2925</td>\n",
       "      <td>6</td>\n",
       "      <td>2015</td>\n",
       "      <td>Non Fiction</td>\n",
       "    </tr>\n",
       "    <tr>\n",
       "      <th>253</th>\n",
       "      <td>Old School (Diary of a Wimpy Kid #10)</td>\n",
       "      <td>Jeff Kinney</td>\n",
       "      <td>4.8</td>\n",
       "      <td>6169</td>\n",
       "      <td>7</td>\n",
       "      <td>2015</td>\n",
       "      <td>Fiction</td>\n",
       "    </tr>\n",
       "  </tbody>\n",
       "</table>\n",
       "</div>"
      ],
      "text/plain": [
       "                                                  name              author  \\\n",
       "507                              To Kill a Mockingbird          Harper Lee   \n",
       "210                      Laugh-Out-Loud Jokes for Kids         Rob Elliott   \n",
       "206                         Knock-Knock Jokes for Kids         Rob Elliott   \n",
       "111                                    First 100 Words        Roger Priddy   \n",
       "123                               Giraffes Can't Dance       Giles Andreae   \n",
       "54   Creative Haven Creative Cats Coloring Book (Ad...     Marjorie Sarnat   \n",
       "63                      Dear Zoo: A Lift-the-Flap Book        Rod Campbell   \n",
       "89   Dover Creative Haven Art Nouveau Animal Design...         Marty Noble   \n",
       "478                        The Very Hungry Caterpillar          Eric Carle   \n",
       "201  Killing Reagan: The Violent Assault That Chang...       Bill O'Reilly   \n",
       "28                        Baby Touch and Feel: Animals                  DK   \n",
       "224                                   Love You Forever       Robert Munsch   \n",
       "55   Creative Haven Owls Coloring Book (Adult Color...     Marjorie Sarnat   \n",
       "17      Adult Coloring Book: Stress Relieving Patterns  Blue Star Coloring   \n",
       "376  The Four Agreements: A Practical Guide to Pers...     Don Miguel Ruiz   \n",
       "16   Adult Coloring Book: Stress Relieving Animal D...  Blue Star Coloring   \n",
       "253              Old School (Diary of a Wimpy Kid #10)         Jeff Kinney   \n",
       "\n",
       "     user_rating  reviews  price  year        genre  \n",
       "507          4.8    26234      0  2015      Fiction  \n",
       "210          4.6     6990      4  2015  Non Fiction  \n",
       "206          4.5     3673      4  2015  Non Fiction  \n",
       "111          4.7    17323      4  2015  Non Fiction  \n",
       "123          4.8    14038      4  2015      Fiction  \n",
       "54           4.8     4022      4  2015  Non Fiction  \n",
       "63           4.8    10922      5  2015      Fiction  \n",
       "89           4.6     2134      5  2015  Non Fiction  \n",
       "478          4.9    19546      5  2015      Fiction  \n",
       "201          4.6     5235      5  2015  Non Fiction  \n",
       "28           4.6     5360      5  2015  Non Fiction  \n",
       "224          4.8    18613      5  2015      Fiction  \n",
       "55           4.8     3871      5  2015  Non Fiction  \n",
       "17           4.4     2951      6  2015  Non Fiction  \n",
       "376          4.7    23308      6  2015  Non Fiction  \n",
       "16           4.6     2925      6  2015  Non Fiction  \n",
       "253          4.8     6169      7  2015      Fiction  "
      ]
     },
     "execution_count": 137,
     "metadata": {},
     "output_type": "execute_result"
    }
   ],
   "source": [
    "#Відсортуйде за зростанням ціни всі книги, які потрапили до рейтингу в 2015 році і коштують дешевше за 8 доларів.\n",
    "df[(df.year == 2015) & (df.price < 8)].sort_values(\"price\", ascending=True)\n"
   ]
  },
  {
   "cell_type": "code",
   "execution_count": 144,
   "metadata": {},
   "outputs": [
    {
     "data": {
      "text/html": [
       "<div>\n",
       "<style scoped>\n",
       "    .dataframe tbody tr th:only-of-type {\n",
       "        vertical-align: middle;\n",
       "    }\n",
       "\n",
       "    .dataframe tbody tr th {\n",
       "        vertical-align: top;\n",
       "    }\n",
       "\n",
       "    .dataframe thead th {\n",
       "        text-align: right;\n",
       "    }\n",
       "</style>\n",
       "<table border=\"1\" class=\"dataframe\">\n",
       "  <thead>\n",
       "    <tr style=\"text-align: right;\">\n",
       "      <th></th>\n",
       "      <th>mean</th>\n",
       "    </tr>\n",
       "    <tr>\n",
       "      <th>author</th>\n",
       "      <th></th>\n",
       "    </tr>\n",
       "  </thead>\n",
       "  <tbody>\n",
       "    <tr>\n",
       "      <th>Donna Tartt</th>\n",
       "      <td>3.9</td>\n",
       "    </tr>\n",
       "  </tbody>\n",
       "</table>\n",
       "</div>"
      ],
      "text/plain": [
       "             mean\n",
       "author           \n",
       "Donna Tartt   3.9"
      ]
     },
     "execution_count": 144,
     "metadata": {},
     "output_type": "execute_result"
    }
   ],
   "source": [
    "_.tail(1)"
   ]
  },
  {
   "cell_type": "code",
   "execution_count": 153,
   "metadata": {},
   "outputs": [
    {
     "data": {
      "text/html": [
       "<div>\n",
       "<style scoped>\n",
       "    .dataframe tbody tr th:only-of-type {\n",
       "        vertical-align: middle;\n",
       "    }\n",
       "\n",
       "    .dataframe tbody tr th {\n",
       "        vertical-align: top;\n",
       "    }\n",
       "\n",
       "    .dataframe thead th {\n",
       "        text-align: right;\n",
       "    }\n",
       "</style>\n",
       "<table border=\"1\" class=\"dataframe\">\n",
       "  <thead>\n",
       "    <tr style=\"text-align: right;\">\n",
       "      <th></th>\n",
       "      <th>min</th>\n",
       "      <th>max</th>\n",
       "    </tr>\n",
       "    <tr>\n",
       "      <th>genre</th>\n",
       "      <th></th>\n",
       "      <th></th>\n",
       "    </tr>\n",
       "  </thead>\n",
       "  <tbody>\n",
       "    <tr>\n",
       "      <th>Fiction</th>\n",
       "      <td>0</td>\n",
       "      <td>82</td>\n",
       "    </tr>\n",
       "    <tr>\n",
       "      <th>Non Fiction</th>\n",
       "      <td>0</td>\n",
       "      <td>105</td>\n",
       "    </tr>\n",
       "  </tbody>\n",
       "</table>\n",
       "</div>"
      ],
      "text/plain": [
       "             min  max\n",
       "genre                \n",
       "Fiction        0   82\n",
       "Non Fiction    0  105"
      ]
     },
     "execution_count": 153,
     "metadata": {},
     "output_type": "execute_result"
    }
   ],
   "source": [
    "#3. Агрегування даних та з'єднання таблиць\n",
    "\n",
    "df.groupby('genre').agg([\"min\", \"max\"]).price"
   ]
  },
  {
   "cell_type": "code",
   "execution_count": 154,
   "metadata": {},
   "outputs": [
    {
     "name": "stdout",
     "output_type": "stream",
     "text": [
      "Max Price for Fiction:  82\n",
      "Min Price for Fiction:  0\n",
      "Max Price for Non Fiction:  105\n",
      "Min Price for Non Fiction:  0\n"
     ]
    }
   ],
   "source": [
    "print(\"Max Price for Fiction: \", _.loc['Fiction']['max'])\n",
    "print(\"Min Price for Fiction: \",  _.loc['Fiction']['min'])\n",
    "print(\"Max Price for Non Fiction: \", _.loc['Non Fiction']['max'])\n",
    "print(\"Min Price for Non Fiction: \",  _.loc['Non Fiction']['min'])"
   ]
  },
  {
   "cell_type": "code",
   "execution_count": 140,
   "metadata": {},
   "outputs": [
    {
     "data": {
      "text/html": [
       "<div>\n",
       "<style scoped>\n",
       "    .dataframe tbody tr th:only-of-type {\n",
       "        vertical-align: middle;\n",
       "    }\n",
       "\n",
       "    .dataframe tbody tr th {\n",
       "        vertical-align: top;\n",
       "    }\n",
       "\n",
       "    .dataframe thead th {\n",
       "        text-align: right;\n",
       "    }\n",
       "</style>\n",
       "<table border=\"1\" class=\"dataframe\">\n",
       "  <thead>\n",
       "    <tr style=\"text-align: right;\">\n",
       "      <th></th>\n",
       "      <th>count</th>\n",
       "    </tr>\n",
       "    <tr>\n",
       "      <th>author</th>\n",
       "      <th></th>\n",
       "    </tr>\n",
       "  </thead>\n",
       "  <tbody>\n",
       "    <tr>\n",
       "      <th>Jill Twiss</th>\n",
       "      <td>1</td>\n",
       "    </tr>\n",
       "    <tr>\n",
       "      <th>Patrick Thorpe</th>\n",
       "      <td>1</td>\n",
       "    </tr>\n",
       "    <tr>\n",
       "      <th>Ian K. Smith M.D.</th>\n",
       "      <td>1</td>\n",
       "    </tr>\n",
       "    <tr>\n",
       "      <th>Howard Stern</th>\n",
       "      <td>1</td>\n",
       "    </tr>\n",
       "    <tr>\n",
       "      <th>Hopscotch Girls</th>\n",
       "      <td>1</td>\n",
       "    </tr>\n",
       "    <tr>\n",
       "      <th>...</th>\n",
       "      <td>...</td>\n",
       "    </tr>\n",
       "    <tr>\n",
       "      <th>American Psychological Association</th>\n",
       "      <td>10</td>\n",
       "    </tr>\n",
       "    <tr>\n",
       "      <th>Suzanne Collins</th>\n",
       "      <td>11</td>\n",
       "    </tr>\n",
       "    <tr>\n",
       "      <th>Gary Chapman</th>\n",
       "      <td>11</td>\n",
       "    </tr>\n",
       "    <tr>\n",
       "      <th>Rick Riordan</th>\n",
       "      <td>11</td>\n",
       "    </tr>\n",
       "    <tr>\n",
       "      <th>Jeff Kinney</th>\n",
       "      <td>12</td>\n",
       "    </tr>\n",
       "  </tbody>\n",
       "</table>\n",
       "<p>248 rows × 1 columns</p>\n",
       "</div>"
      ],
      "text/plain": [
       "                                    count\n",
       "author                                   \n",
       "Jill Twiss                              1\n",
       "Patrick Thorpe                          1\n",
       "Ian K. Smith M.D.                       1\n",
       "Howard Stern                            1\n",
       "Hopscotch Girls                         1\n",
       "...                                   ...\n",
       "American Psychological Association     10\n",
       "Suzanne Collins                        11\n",
       "Gary Chapman                           11\n",
       "Rick Riordan                           11\n",
       "Jeff Kinney                            12\n",
       "\n",
       "[248 rows x 1 columns]"
      ]
     },
     "execution_count": 140,
     "metadata": {},
     "output_type": "execute_result"
    }
   ],
   "source": [
    "#Створіть датафрейм, який вміщатиме кількість книг для кожного з авторів\n",
    "\n",
    "df_author_books_count = df.groupby(\"author\").agg(['count']).name\n",
    "df_author_books_count.sort_values('count')"
   ]
  },
  {
   "cell_type": "code",
   "execution_count": 141,
   "metadata": {},
   "outputs": [
    {
     "name": "stdout",
     "output_type": "stream",
     "text": [
      "Таблица получилась:\n",
      "Строк:248\n",
      "Столбцов:1\n"
     ]
    }
   ],
   "source": [
    "#Якої розмірності вийшла таблиця?\n",
    "print(\"Таблица получилась:\")\n",
    "print(f\"Строк:{df_author_books_count.shape[0]}\")\n",
    "print(f\"Столбцов:{df_author_books_count.shape[1]}\")\n"
   ]
  },
  {
   "cell_type": "code",
   "execution_count": 159,
   "metadata": {},
   "outputs": [
    {
     "name": "stdout",
     "output_type": "stream",
     "text": [
      "Автор з найбільшою кількістю книг:  Jeff Kinney\n",
      "Кількість книг цього автора:  12\n"
     ]
    }
   ],
   "source": [
    "#Який автор має найбільше книг? Скільки книг цього автора? \n",
    "max_books_author = df_author_books_count.idxmax().values[0]\n",
    "max_books_count = df_author_books_count.max().values[0]\n",
    "print(\"Автор з найбільшою кількістю книг: \", max_books_author)\n",
    "print(\"Кількість книг цього автора: \", max_books_count)\n"
   ]
  },
  {
   "cell_type": "code",
   "execution_count": 155,
   "metadata": {},
   "outputs": [
    {
     "data": {
      "text/html": [
       "<div>\n",
       "<style scoped>\n",
       "    .dataframe tbody tr th:only-of-type {\n",
       "        vertical-align: middle;\n",
       "    }\n",
       "\n",
       "    .dataframe tbody tr th {\n",
       "        vertical-align: top;\n",
       "    }\n",
       "\n",
       "    .dataframe thead th {\n",
       "        text-align: right;\n",
       "    }\n",
       "</style>\n",
       "<table border=\"1\" class=\"dataframe\">\n",
       "  <thead>\n",
       "    <tr style=\"text-align: right;\">\n",
       "      <th></th>\n",
       "      <th>mean</th>\n",
       "    </tr>\n",
       "    <tr>\n",
       "      <th>author</th>\n",
       "      <th></th>\n",
       "    </tr>\n",
       "  </thead>\n",
       "  <tbody>\n",
       "    <tr>\n",
       "      <th>Patrick Thorpe</th>\n",
       "      <td>4.9</td>\n",
       "    </tr>\n",
       "    <tr>\n",
       "      <th>Lin-Manuel Miranda</th>\n",
       "      <td>4.9</td>\n",
       "    </tr>\n",
       "    <tr>\n",
       "      <th>Chip Gaines</th>\n",
       "      <td>4.9</td>\n",
       "    </tr>\n",
       "    <tr>\n",
       "      <th>Sherri Duskey Rinker</th>\n",
       "      <td>4.9</td>\n",
       "    </tr>\n",
       "    <tr>\n",
       "      <th>Nathan W. Pyle</th>\n",
       "      <td>4.9</td>\n",
       "    </tr>\n",
       "    <tr>\n",
       "      <th>...</th>\n",
       "      <td>...</td>\n",
       "    </tr>\n",
       "    <tr>\n",
       "      <th>Paula Hawkins</th>\n",
       "      <td>4.1</td>\n",
       "    </tr>\n",
       "    <tr>\n",
       "      <th>Muriel Barbery</th>\n",
       "      <td>4.0</td>\n",
       "    </tr>\n",
       "    <tr>\n",
       "      <th>Gillian Flynn</th>\n",
       "      <td>4.0</td>\n",
       "    </tr>\n",
       "    <tr>\n",
       "      <th>Gallup</th>\n",
       "      <td>4.0</td>\n",
       "    </tr>\n",
       "    <tr>\n",
       "      <th>Donna Tartt</th>\n",
       "      <td>3.9</td>\n",
       "    </tr>\n",
       "  </tbody>\n",
       "</table>\n",
       "<p>248 rows × 1 columns</p>\n",
       "</div>"
      ],
      "text/plain": [
       "                      mean\n",
       "author                    \n",
       "Patrick Thorpe         4.9\n",
       "Lin-Manuel Miranda     4.9\n",
       "Chip Gaines            4.9\n",
       "Sherri Duskey Rinker   4.9\n",
       "Nathan W. Pyle         4.9\n",
       "...                    ...\n",
       "Paula Hawkins          4.1\n",
       "Muriel Barbery         4.0\n",
       "Gillian Flynn          4.0\n",
       "Gallup                 4.0\n",
       "Donna Tartt            3.9\n",
       "\n",
       "[248 rows x 1 columns]"
      ]
     },
     "execution_count": 155,
     "metadata": {},
     "output_type": "execute_result"
    }
   ],
   "source": [
    "#Тепер створіть другий датафрейм, який буде вміщати середній рейтинг для кожного автора\n",
    "#(використовуйте функції groupby та agg, для підрахунку середнього значення використовуйте mean). \n",
    "\n",
    "df_author_rating_avg = df.groupby(\"author\").user_rating.agg(['mean'])\n",
    "df_author_rating_avg.sort_values('mean', ascending=False)"
   ]
  },
  {
   "cell_type": "code",
   "execution_count": 158,
   "metadata": {},
   "outputs": [
    {
     "name": "stdout",
     "output_type": "stream",
     "text": [
      "Автор з найменшим середнім рейтингом:  Donna Tartt\n",
      "Середній рейтинг цього автора:  3.9\n"
     ]
    }
   ],
   "source": [
    "#У якого автора середній рейтинг мінімальний? Який у цього автора середній рейтинг?\n",
    "min_avg_rating_author = df_author_rating_avg.idxmin().values[0]\n",
    "min_avg_rating = df_author_rating_avg.min().values[0]\n",
    "print(\"Автор з найменшим середнім рейтингом: \", min_avg_rating_author)\n",
    "print(\"Середній рейтинг цього автора: \", min_avg_rating)"
   ]
  },
  {
   "cell_type": "code",
   "execution_count": 160,
   "metadata": {},
   "outputs": [
    {
     "data": {
      "text/html": [
       "<div>\n",
       "<style scoped>\n",
       "    .dataframe tbody tr th:only-of-type {\n",
       "        vertical-align: middle;\n",
       "    }\n",
       "\n",
       "    .dataframe tbody tr th {\n",
       "        vertical-align: top;\n",
       "    }\n",
       "\n",
       "    .dataframe thead th {\n",
       "        text-align: right;\n",
       "    }\n",
       "</style>\n",
       "<table border=\"1\" class=\"dataframe\">\n",
       "  <thead>\n",
       "    <tr style=\"text-align: right;\">\n",
       "      <th></th>\n",
       "      <th>author</th>\n",
       "      <th>books_count</th>\n",
       "      <th>average_rating</th>\n",
       "    </tr>\n",
       "  </thead>\n",
       "  <tbody>\n",
       "    <tr>\n",
       "      <th>0</th>\n",
       "      <td>Abraham Verghese</td>\n",
       "      <td>2</td>\n",
       "      <td>4.60</td>\n",
       "    </tr>\n",
       "    <tr>\n",
       "      <th>1</th>\n",
       "      <td>Adam Gasiewski</td>\n",
       "      <td>1</td>\n",
       "      <td>4.40</td>\n",
       "    </tr>\n",
       "    <tr>\n",
       "      <th>2</th>\n",
       "      <td>Adam Mansbach</td>\n",
       "      <td>1</td>\n",
       "      <td>4.80</td>\n",
       "    </tr>\n",
       "    <tr>\n",
       "      <th>3</th>\n",
       "      <td>Adir Levy</td>\n",
       "      <td>1</td>\n",
       "      <td>4.80</td>\n",
       "    </tr>\n",
       "    <tr>\n",
       "      <th>4</th>\n",
       "      <td>Admiral William H. McRaven</td>\n",
       "      <td>1</td>\n",
       "      <td>4.70</td>\n",
       "    </tr>\n",
       "    <tr>\n",
       "      <th>...</th>\n",
       "      <td>...</td>\n",
       "      <td>...</td>\n",
       "      <td>...</td>\n",
       "    </tr>\n",
       "    <tr>\n",
       "      <th>243</th>\n",
       "      <td>Walter Isaacson</td>\n",
       "      <td>3</td>\n",
       "      <td>4.57</td>\n",
       "    </tr>\n",
       "    <tr>\n",
       "      <th>244</th>\n",
       "      <td>William Davis</td>\n",
       "      <td>2</td>\n",
       "      <td>4.40</td>\n",
       "    </tr>\n",
       "    <tr>\n",
       "      <th>245</th>\n",
       "      <td>William P. Young</td>\n",
       "      <td>2</td>\n",
       "      <td>4.60</td>\n",
       "    </tr>\n",
       "    <tr>\n",
       "      <th>246</th>\n",
       "      <td>Wizards RPG Team</td>\n",
       "      <td>3</td>\n",
       "      <td>4.80</td>\n",
       "    </tr>\n",
       "    <tr>\n",
       "      <th>247</th>\n",
       "      <td>Zhi Gang Sha</td>\n",
       "      <td>2</td>\n",
       "      <td>4.60</td>\n",
       "    </tr>\n",
       "  </tbody>\n",
       "</table>\n",
       "<p>248 rows × 3 columns</p>\n",
       "</div>"
      ],
      "text/plain": [
       "                         author  books_count  average_rating\n",
       "0              Abraham Verghese            2            4.60\n",
       "1                Adam Gasiewski            1            4.40\n",
       "2                 Adam Mansbach            1            4.80\n",
       "3                     Adir Levy            1            4.80\n",
       "4    Admiral William H. McRaven            1            4.70\n",
       "..                          ...          ...             ...\n",
       "243             Walter Isaacson            3            4.57\n",
       "244               William Davis            2            4.40\n",
       "245            William P. Young            2            4.60\n",
       "246            Wizards RPG Team            3            4.80\n",
       "247                Zhi Gang Sha            2            4.60\n",
       "\n",
       "[248 rows x 3 columns]"
      ]
     },
     "execution_count": 160,
     "metadata": {},
     "output_type": "execute_result"
    }
   ],
   "source": [
    "#З'єднайте останні два датафрейми так, щоб для кожного автора було видно\n",
    "#кількість книг та середній рейтинг (Використовуйте функцію concat з параметром axis=1). Збережіть результат у змінну\n",
    "\n",
    "df_authors = pd.concat([df_author_books_count, df_author_rating_avg], axis=1)\\\n",
    "    .rename(columns={\"mean\": \"average_rating\", \"count\": \"books_count\"})\\\n",
    "    .reset_index()\n",
    "df_authors['average_rating'] = df_authors['average_rating'].round(2)\n",
    "df_authors"
   ]
  },
  {
   "cell_type": "code",
   "execution_count": 162,
   "metadata": {},
   "outputs": [
    {
     "data": {
      "text/html": [
       "<div>\n",
       "<style scoped>\n",
       "    .dataframe tbody tr th:only-of-type {\n",
       "        vertical-align: middle;\n",
       "    }\n",
       "\n",
       "    .dataframe tbody tr th {\n",
       "        vertical-align: top;\n",
       "    }\n",
       "\n",
       "    .dataframe thead th {\n",
       "        text-align: right;\n",
       "    }\n",
       "</style>\n",
       "<table border=\"1\" class=\"dataframe\">\n",
       "  <thead>\n",
       "    <tr style=\"text-align: right;\">\n",
       "      <th></th>\n",
       "      <th>author</th>\n",
       "      <th>books_count</th>\n",
       "      <th>average_rating</th>\n",
       "    </tr>\n",
       "  </thead>\n",
       "  <tbody>\n",
       "    <tr>\n",
       "      <th>120</th>\n",
       "      <td>Jeff Kinney</td>\n",
       "      <td>12</td>\n",
       "      <td>4.8</td>\n",
       "    </tr>\n",
       "  </tbody>\n",
       "</table>\n",
       "</div>"
      ],
      "text/plain": [
       "          author  books_count  average_rating\n",
       "120  Jeff Kinney           12             4.8"
      ]
     },
     "execution_count": 162,
     "metadata": {},
     "output_type": "execute_result"
    }
   ],
   "source": [
    "#Відсортуйте датафрейм за зростаючою кількістю книг\n",
    "# та зростаючим рейтингом (використовуйте функцію sort_values)\n",
    "\n",
    "df_authors.sort_values(by=[\"books_count\", \"average_rating\"], ascending=False, inplace=True)\n",
    "_.head(1)"
   ]
  },
  {
   "cell_type": "code",
   "execution_count": 169,
   "metadata": {},
   "outputs": [
    {
     "data": {
      "image/png": "[encoded data removed]",
      "text/plain": [
       "<Figure size 1000x600 with 1 Axes>"
      ]
     },
     "metadata": {},
     "output_type": "display_data"
    }
   ],
   "source": [
    "#График 1\n",
    "\n",
    "# Средняя цена книг для жанра Fiction по годам\n",
    "yearly_avg_price_genre = df[df['genre'] == 'Fiction'].groupby('year')['price'].mean()\n",
    "\n",
    "# Построение графика\n",
    "plt.figure(figsize=(10, 6))\n",
    "plt.plot(yearly_avg_price_genre.index, yearly_avg_price_genre.values,\n",
    "         linestyle=\":\", color=\"#061358\", linewidth=2, marker=\"D\", label='Для жанру \"Fiction\"')\n",
    "\n",
    "plt.title('Середня ціна книг для жанру Fiction')\n",
    "plt.xlabel('Рік')\n",
    "plt.ylabel('Середня ціна за книгу')\n",
    "plt.grid(True, linestyle='--', alpha=0.5)\n",
    "plt.xticks(yearly_avg_price_genre.index)\n",
    "plt.legend()\n",
    "plt.show()"
   ]
  },
  {
   "cell_type": "code",
   "execution_count": 178,
   "metadata": {},
   "outputs": [
    {
     "data": {
      "image/png": "[encoded data removed]",
      "text/plain": [
       "<Figure size 1000x600 with 1 Axes>"
      ]
     },
     "metadata": {},
     "output_type": "display_data"
    }
   ],
   "source": [
    "#График 2\n",
    "\n",
    "yearly_avg_rating = df[df['genre'] == 'Fiction'].groupby('year')[\"user_rating\"].mean()\n",
    "\n",
    "# Построение графика\n",
    "plt.figure(figsize=(10, 6))\n",
    "plt.plot(yearly_avg_rating.index, yearly_avg_rating.values,\n",
    "         linestyle=\"solid\", color=\"red\", linewidth=2, marker=\"s\", label='Для жанру \"Fiction\"')\n",
    "\n",
    "plt.title('Середній рейтинг книг жанру Fiction')\n",
    "plt.xlabel('Рік')\n",
    "plt.ylabel('Середній рейтинг книги')\n",
    "plt.grid(True, linestyle='--', alpha=0.5)\n",
    "plt.xticks(yearly_avg_rating.index)\n",
    "plt.legend()\n",
    "plt.show()"
   ]
  },
  {
   "cell_type": "code",
   "execution_count": 179,
   "metadata": {},
   "outputs": [
    {
     "data": {
      "image/png": "[encoded data removed]",
      "text/plain": [
       "<Figure size 800x800 with 1 Axes>"
      ]
     },
     "metadata": {},
     "output_type": "display_data"
    }
   ],
   "source": [
    "#График 3\n",
    "books_2019 = df[df['year'] == 2019]\n",
    "\n",
    "\n",
    "genre_counts = books_2019['genre'].value_counts()\n",
    "\n",
    "plt.figure(figsize=(8, 8))\n",
    "plt.pie(genre_counts, labels=genre_counts.index, autopct='%1.1f%%', startangle=140, colors=['skyblue', 'lightcoral'])\n",
    "plt.title('Кількість книг жанрів Fiction та Non-Fiction у 2019 році')\n",
    "plt.show()"
   ]
  },
  {
   "cell_type": "code",
   "execution_count": null,
   "metadata": {},
   "outputs": [],
   "source": []
  }
 ],
 "metadata": {
  "kernelspec": {
   "display_name": "Python 3",
   "language": "python",
   "name": "python3"
  },
  "language_info": {
   "codemirror_mode": {
    "name": "ipython",
    "version": 3
   },
   "file_extension": ".py",
   "mimetype": "text/x-python",
   "name": "python",
   "nbconvert_exporter": "python",
   "pygments_lexer": "ipython3",
   "version": "3.12.0"
  }
 },
 "nbformat": 4,
 "nbformat_minor": 2
}
